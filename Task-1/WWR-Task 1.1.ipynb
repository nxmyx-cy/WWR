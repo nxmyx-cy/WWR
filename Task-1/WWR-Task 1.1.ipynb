{
 "cells": [
  {
   "cell_type": "markdown",
   "metadata": {},
   "source": [
    "# WWR Data Pre-processing Task - 1.1"
   ]
  },
  {
   "cell_type": "markdown",
   "metadata": {},
   "source": [
    "__Problem Statement:__ Clean raw sensor data from a MPU 6050 IMU sensor which combines a 3-axis gyroscope and a 3-axis accelerometer, which can further be used to calculate the roll, pitch and yaw of the vehicle."
   ]
  },
  {
   "cell_type": "markdown",
   "metadata": {},
   "source": [
    "<font color=red> 1. Load the libraries"
   ]
  },
  {
   "cell_type": "code",
   "execution_count": 1,
   "metadata": {},
   "outputs": [],
   "source": [
    "import numpy as np\n",
    "import pandas as pd\n",
    "import seaborn as sb\n",
    "import os\n",
    "from mpl_toolkits import mplot3d\n",
    "import matplotlib.pyplot as plt\n",
    "from scipy import interpolate, stats\n",
    "import math"
   ]
  },
  {
   "cell_type": "markdown",
   "metadata": {},
   "source": [
    "<font color=red> 2. Read data from MPURawData_0.csv"
   ]
  },
  {
   "cell_type": "code",
   "execution_count": 2,
   "metadata": {},
   "outputs": [
    {
     "name": "stdout",
     "output_type": "stream",
     "text": [
      "['.git', '.ipynb_checkpoints', 'MPURawData_0.csv', 'MPURotationData_0.csv', 'WWR-Task 1.1.ipynb', 'WWR-Task 1.2.ipynb']\n"
     ]
    }
   ],
   "source": [
    "print(os.listdir())"
   ]
  },
  {
   "cell_type": "code",
   "execution_count": 3,
   "metadata": {},
   "outputs": [],
   "source": [
    "df_raw = pd.read_csv('MPURawData_0.csv')"
   ]
  },
  {
   "cell_type": "code",
   "execution_count": 4,
   "metadata": {},
   "outputs": [
    {
     "data": {
      "text/html": [
       "<div>\n",
       "<style scoped>\n",
       "    .dataframe tbody tr th:only-of-type {\n",
       "        vertical-align: middle;\n",
       "    }\n",
       "\n",
       "    .dataframe tbody tr th {\n",
       "        vertical-align: top;\n",
       "    }\n",
       "\n",
       "    .dataframe thead th {\n",
       "        text-align: right;\n",
       "    }\n",
       "</style>\n",
       "<table border=\"1\" class=\"dataframe\">\n",
       "  <thead>\n",
       "    <tr style=\"text-align: right;\">\n",
       "      <th></th>\n",
       "      <th>time</th>\n",
       "      <th>acceleration x</th>\n",
       "      <th>acceleration y</th>\n",
       "      <th>acceleration z</th>\n",
       "      <th>gyroscope x</th>\n",
       "      <th>gyroscope y</th>\n",
       "      <th>gyroscope z</th>\n",
       "    </tr>\n",
       "  </thead>\n",
       "  <tbody>\n",
       "    <tr>\n",
       "      <th>0</th>\n",
       "      <td>0.0130</td>\n",
       "      <td>2.7031</td>\n",
       "      <td>0.1245</td>\n",
       "      <td>-9.9144</td>\n",
       "      <td>0.0032</td>\n",
       "      <td>-0.0106</td>\n",
       "      <td>0.2366</td>\n",
       "    </tr>\n",
       "    <tr>\n",
       "      <th>1</th>\n",
       "      <td>0.0264</td>\n",
       "      <td>2.6743</td>\n",
       "      <td>0.0790</td>\n",
       "      <td>-9.8258</td>\n",
       "      <td>0.0037</td>\n",
       "      <td>-0.0099</td>\n",
       "      <td>0.1908</td>\n",
       "    </tr>\n",
       "    <tr>\n",
       "      <th>2</th>\n",
       "      <td>0.0395</td>\n",
       "      <td>2.6384</td>\n",
       "      <td>0.1724</td>\n",
       "      <td>-9.6774</td>\n",
       "      <td>0.0050</td>\n",
       "      <td>-0.0121</td>\n",
       "      <td>0.2824</td>\n",
       "    </tr>\n",
       "    <tr>\n",
       "      <th>3</th>\n",
       "      <td>0.0529</td>\n",
       "      <td>2.7246</td>\n",
       "      <td>0.0838</td>\n",
       "      <td>-9.8330</td>\n",
       "      <td>0.0046</td>\n",
       "      <td>-0.0113</td>\n",
       "      <td>0.0840</td>\n",
       "    </tr>\n",
       "    <tr>\n",
       "      <th>4</th>\n",
       "      <td>0.0666</td>\n",
       "      <td>2.6288</td>\n",
       "      <td>0.0838</td>\n",
       "      <td>-9.9479</td>\n",
       "      <td>0.0054</td>\n",
       "      <td>-0.0116</td>\n",
       "      <td>0.3359</td>\n",
       "    </tr>\n",
       "    <tr>\n",
       "      <th>...</th>\n",
       "      <td>...</td>\n",
       "      <td>...</td>\n",
       "      <td>...</td>\n",
       "      <td>...</td>\n",
       "      <td>...</td>\n",
       "      <td>...</td>\n",
       "      <td>...</td>\n",
       "    </tr>\n",
       "    <tr>\n",
       "      <th>1219</th>\n",
       "      <td>23.0377</td>\n",
       "      <td>7.3502</td>\n",
       "      <td>-0.0814</td>\n",
       "      <td>3.5434</td>\n",
       "      <td>-0.1143</td>\n",
       "      <td>-1.9094</td>\n",
       "      <td>-44.6412</td>\n",
       "    </tr>\n",
       "    <tr>\n",
       "      <th>1220</th>\n",
       "      <td>23.0583</td>\n",
       "      <td>7.4771</td>\n",
       "      <td>0.4381</td>\n",
       "      <td>0.9792</td>\n",
       "      <td>0.0026</td>\n",
       "      <td>-1.9094</td>\n",
       "      <td>-54.2977</td>\n",
       "    </tr>\n",
       "    <tr>\n",
       "      <th>1221</th>\n",
       "      <td>23.0774</td>\n",
       "      <td>7.7788</td>\n",
       "      <td>1.0127</td>\n",
       "      <td>-1.6041</td>\n",
       "      <td>-0.0628</td>\n",
       "      <td>-1.9094</td>\n",
       "      <td>-60.8015</td>\n",
       "    </tr>\n",
       "    <tr>\n",
       "      <th>1222</th>\n",
       "      <td>23.0969</td>\n",
       "      <td>7.4891</td>\n",
       "      <td>1.9058</td>\n",
       "      <td>-3.4836</td>\n",
       "      <td>-0.2822</td>\n",
       "      <td>-1.9094</td>\n",
       "      <td>-71.1298</td>\n",
       "    </tr>\n",
       "    <tr>\n",
       "      <th>1223</th>\n",
       "      <td>23.1318</td>\n",
       "      <td>6.5505</td>\n",
       "      <td>3.2944</td>\n",
       "      <td>-8.2863</td>\n",
       "      <td>-1.0234</td>\n",
       "      <td>-1.9094</td>\n",
       "      <td>-81.0763</td>\n",
       "    </tr>\n",
       "  </tbody>\n",
       "</table>\n",
       "<p>1224 rows × 7 columns</p>\n",
       "</div>"
      ],
      "text/plain": [
       "         time  acceleration x  acceleration y  acceleration z  gyroscope x  \\\n",
       "0      0.0130          2.7031          0.1245         -9.9144       0.0032   \n",
       "1      0.0264          2.6743          0.0790         -9.8258       0.0037   \n",
       "2      0.0395          2.6384          0.1724         -9.6774       0.0050   \n",
       "3      0.0529          2.7246          0.0838         -9.8330       0.0046   \n",
       "4      0.0666          2.6288          0.0838         -9.9479       0.0054   \n",
       "...       ...             ...             ...             ...          ...   \n",
       "1219  23.0377          7.3502         -0.0814          3.5434      -0.1143   \n",
       "1220  23.0583          7.4771          0.4381          0.9792       0.0026   \n",
       "1221  23.0774          7.7788          1.0127         -1.6041      -0.0628   \n",
       "1222  23.0969          7.4891          1.9058         -3.4836      -0.2822   \n",
       "1223  23.1318          6.5505          3.2944         -8.2863      -1.0234   \n",
       "\n",
       "      gyroscope y  gyroscope z  \n",
       "0         -0.0106       0.2366  \n",
       "1         -0.0099       0.1908  \n",
       "2         -0.0121       0.2824  \n",
       "3         -0.0113       0.0840  \n",
       "4         -0.0116       0.3359  \n",
       "...           ...          ...  \n",
       "1219      -1.9094     -44.6412  \n",
       "1220      -1.9094     -54.2977  \n",
       "1221      -1.9094     -60.8015  \n",
       "1222      -1.9094     -71.1298  \n",
       "1223      -1.9094     -81.0763  \n",
       "\n",
       "[1224 rows x 7 columns]"
      ]
     },
     "execution_count": 4,
     "metadata": {},
     "output_type": "execute_result"
    }
   ],
   "source": [
    "df_raw"
   ]
  },
  {
   "cell_type": "code",
   "execution_count": 5,
   "metadata": {},
   "outputs": [
    {
     "data": {
      "text/html": [
       "<div>\n",
       "<style scoped>\n",
       "    .dataframe tbody tr th:only-of-type {\n",
       "        vertical-align: middle;\n",
       "    }\n",
       "\n",
       "    .dataframe tbody tr th {\n",
       "        vertical-align: top;\n",
       "    }\n",
       "\n",
       "    .dataframe thead th {\n",
       "        text-align: right;\n",
       "    }\n",
       "</style>\n",
       "<table border=\"1\" class=\"dataframe\">\n",
       "  <thead>\n",
       "    <tr style=\"text-align: right;\">\n",
       "      <th></th>\n",
       "      <th>time</th>\n",
       "      <th>acceleration x</th>\n",
       "      <th>acceleration y</th>\n",
       "      <th>acceleration z</th>\n",
       "      <th>gyroscope x</th>\n",
       "      <th>gyroscope y</th>\n",
       "      <th>gyroscope z</th>\n",
       "    </tr>\n",
       "  </thead>\n",
       "  <tbody>\n",
       "    <tr>\n",
       "      <th>0</th>\n",
       "      <td>0.0130</td>\n",
       "      <td>2.7031</td>\n",
       "      <td>0.1245</td>\n",
       "      <td>-9.9144</td>\n",
       "      <td>0.0032</td>\n",
       "      <td>-0.0106</td>\n",
       "      <td>0.2366</td>\n",
       "    </tr>\n",
       "    <tr>\n",
       "      <th>1</th>\n",
       "      <td>0.0264</td>\n",
       "      <td>2.6743</td>\n",
       "      <td>0.0790</td>\n",
       "      <td>-9.8258</td>\n",
       "      <td>0.0037</td>\n",
       "      <td>-0.0099</td>\n",
       "      <td>0.1908</td>\n",
       "    </tr>\n",
       "    <tr>\n",
       "      <th>2</th>\n",
       "      <td>0.0395</td>\n",
       "      <td>2.6384</td>\n",
       "      <td>0.1724</td>\n",
       "      <td>-9.6774</td>\n",
       "      <td>0.0050</td>\n",
       "      <td>-0.0121</td>\n",
       "      <td>0.2824</td>\n",
       "    </tr>\n",
       "    <tr>\n",
       "      <th>3</th>\n",
       "      <td>0.0529</td>\n",
       "      <td>2.7246</td>\n",
       "      <td>0.0838</td>\n",
       "      <td>-9.8330</td>\n",
       "      <td>0.0046</td>\n",
       "      <td>-0.0113</td>\n",
       "      <td>0.0840</td>\n",
       "    </tr>\n",
       "    <tr>\n",
       "      <th>4</th>\n",
       "      <td>0.0666</td>\n",
       "      <td>2.6288</td>\n",
       "      <td>0.0838</td>\n",
       "      <td>-9.9479</td>\n",
       "      <td>0.0054</td>\n",
       "      <td>-0.0116</td>\n",
       "      <td>0.3359</td>\n",
       "    </tr>\n",
       "  </tbody>\n",
       "</table>\n",
       "</div>"
      ],
      "text/plain": [
       "     time  acceleration x  acceleration y  acceleration z  gyroscope x  \\\n",
       "0  0.0130          2.7031          0.1245         -9.9144       0.0032   \n",
       "1  0.0264          2.6743          0.0790         -9.8258       0.0037   \n",
       "2  0.0395          2.6384          0.1724         -9.6774       0.0050   \n",
       "3  0.0529          2.7246          0.0838         -9.8330       0.0046   \n",
       "4  0.0666          2.6288          0.0838         -9.9479       0.0054   \n",
       "\n",
       "   gyroscope y  gyroscope z  \n",
       "0      -0.0106       0.2366  \n",
       "1      -0.0099       0.1908  \n",
       "2      -0.0121       0.2824  \n",
       "3      -0.0113       0.0840  \n",
       "4      -0.0116       0.3359  "
      ]
     },
     "execution_count": 5,
     "metadata": {},
     "output_type": "execute_result"
    }
   ],
   "source": [
    "df_raw.head()"
   ]
  },
  {
   "cell_type": "markdown",
   "metadata": {},
   "source": [
    "<font color=red>3. Check data quality"
   ]
  },
  {
   "cell_type": "code",
   "execution_count": 6,
   "metadata": {},
   "outputs": [
    {
     "data": {
      "text/plain": [
       "time              float64\n",
       "acceleration x    float64\n",
       "acceleration y    float64\n",
       "acceleration z    float64\n",
       "gyroscope x       float64\n",
       "gyroscope y       float64\n",
       "gyroscope z       float64\n",
       "dtype: object"
      ]
     },
     "execution_count": 6,
     "metadata": {},
     "output_type": "execute_result"
    }
   ],
   "source": [
    "df_raw.dtypes"
   ]
  },
  {
   "cell_type": "code",
   "execution_count": 7,
   "metadata": {},
   "outputs": [
    {
     "name": "stdout",
     "output_type": "stream",
     "text": [
      "<class 'pandas.core.frame.DataFrame'>\n",
      "RangeIndex: 1224 entries, 0 to 1223\n",
      "Data columns (total 7 columns):\n",
      " #   Column          Non-Null Count  Dtype  \n",
      "---  ------          --------------  -----  \n",
      " 0   time            1224 non-null   float64\n",
      " 1   acceleration x  1224 non-null   float64\n",
      " 2   acceleration y  1224 non-null   float64\n",
      " 3   acceleration z  1224 non-null   float64\n",
      " 4   gyroscope x     1224 non-null   float64\n",
      " 5   gyroscope y     1224 non-null   float64\n",
      " 6   gyroscope z     1224 non-null   float64\n",
      "dtypes: float64(7)\n",
      "memory usage: 67.1 KB\n"
     ]
    }
   ],
   "source": [
    "df_raw.info()"
   ]
  },
  {
   "cell_type": "code",
   "execution_count": 8,
   "metadata": {},
   "outputs": [
    {
     "data": {
      "text/html": [
       "<div>\n",
       "<style scoped>\n",
       "    .dataframe tbody tr th:only-of-type {\n",
       "        vertical-align: middle;\n",
       "    }\n",
       "\n",
       "    .dataframe tbody tr th {\n",
       "        vertical-align: top;\n",
       "    }\n",
       "\n",
       "    .dataframe thead th {\n",
       "        text-align: right;\n",
       "    }\n",
       "</style>\n",
       "<table border=\"1\" class=\"dataframe\">\n",
       "  <thead>\n",
       "    <tr style=\"text-align: right;\">\n",
       "      <th></th>\n",
       "      <th>time</th>\n",
       "      <th>acceleration x</th>\n",
       "      <th>acceleration y</th>\n",
       "      <th>acceleration z</th>\n",
       "      <th>gyroscope x</th>\n",
       "      <th>gyroscope y</th>\n",
       "      <th>gyroscope z</th>\n",
       "    </tr>\n",
       "  </thead>\n",
       "  <tbody>\n",
       "    <tr>\n",
       "      <th>count</th>\n",
       "      <td>1224.000000</td>\n",
       "      <td>1224.000000</td>\n",
       "      <td>1224.000000</td>\n",
       "      <td>1224.000000</td>\n",
       "      <td>1224.000000</td>\n",
       "      <td>1224.000000</td>\n",
       "      <td>1224.000000</td>\n",
       "    </tr>\n",
       "    <tr>\n",
       "      <th>mean</th>\n",
       "      <td>11.507798</td>\n",
       "      <td>7.095068</td>\n",
       "      <td>0.005040</td>\n",
       "      <td>-3.322562</td>\n",
       "      <td>-0.004238</td>\n",
       "      <td>0.008059</td>\n",
       "      <td>1.002186</td>\n",
       "    </tr>\n",
       "    <tr>\n",
       "      <th>std</th>\n",
       "      <td>6.685576</td>\n",
       "      <td>3.409640</td>\n",
       "      <td>0.770084</td>\n",
       "      <td>5.912467</td>\n",
       "      <td>0.229147</td>\n",
       "      <td>0.853886</td>\n",
       "      <td>13.521502</td>\n",
       "    </tr>\n",
       "    <tr>\n",
       "      <th>min</th>\n",
       "      <td>0.013000</td>\n",
       "      <td>-1.230600</td>\n",
       "      <td>-13.108300</td>\n",
       "      <td>-19.515100</td>\n",
       "      <td>-1.023400</td>\n",
       "      <td>-1.909400</td>\n",
       "      <td>-81.076300</td>\n",
       "    </tr>\n",
       "    <tr>\n",
       "      <th>25%</th>\n",
       "      <td>5.725000</td>\n",
       "      <td>2.700700</td>\n",
       "      <td>-0.122700</td>\n",
       "      <td>-9.761200</td>\n",
       "      <td>-0.052450</td>\n",
       "      <td>-0.109350</td>\n",
       "      <td>-0.379725</td>\n",
       "    </tr>\n",
       "    <tr>\n",
       "      <th>50%</th>\n",
       "      <td>11.517700</td>\n",
       "      <td>8.674200</td>\n",
       "      <td>0.081400</td>\n",
       "      <td>-3.606900</td>\n",
       "      <td>0.003900</td>\n",
       "      <td>-0.011600</td>\n",
       "      <td>0.217550</td>\n",
       "    </tr>\n",
       "    <tr>\n",
       "      <th>75%</th>\n",
       "      <td>17.257150</td>\n",
       "      <td>9.809600</td>\n",
       "      <td>0.138900</td>\n",
       "      <td>1.221600</td>\n",
       "      <td>0.032875</td>\n",
       "      <td>0.252025</td>\n",
       "      <td>2.353025</td>\n",
       "    </tr>\n",
       "    <tr>\n",
       "      <th>max</th>\n",
       "      <td>23.131800</td>\n",
       "      <td>19.612700</td>\n",
       "      <td>7.690200</td>\n",
       "      <td>17.046700</td>\n",
       "      <td>0.993400</td>\n",
       "      <td>1.909400</td>\n",
       "      <td>105.748100</td>\n",
       "    </tr>\n",
       "  </tbody>\n",
       "</table>\n",
       "</div>"
      ],
      "text/plain": [
       "              time  acceleration x  acceleration y  acceleration z  \\\n",
       "count  1224.000000     1224.000000     1224.000000     1224.000000   \n",
       "mean     11.507798        7.095068        0.005040       -3.322562   \n",
       "std       6.685576        3.409640        0.770084        5.912467   \n",
       "min       0.013000       -1.230600      -13.108300      -19.515100   \n",
       "25%       5.725000        2.700700       -0.122700       -9.761200   \n",
       "50%      11.517700        8.674200        0.081400       -3.606900   \n",
       "75%      17.257150        9.809600        0.138900        1.221600   \n",
       "max      23.131800       19.612700        7.690200       17.046700   \n",
       "\n",
       "       gyroscope x  gyroscope y  gyroscope z  \n",
       "count  1224.000000  1224.000000  1224.000000  \n",
       "mean     -0.004238     0.008059     1.002186  \n",
       "std       0.229147     0.853886    13.521502  \n",
       "min      -1.023400    -1.909400   -81.076300  \n",
       "25%      -0.052450    -0.109350    -0.379725  \n",
       "50%       0.003900    -0.011600     0.217550  \n",
       "75%       0.032875     0.252025     2.353025  \n",
       "max       0.993400     1.909400   105.748100  "
      ]
     },
     "execution_count": 8,
     "metadata": {},
     "output_type": "execute_result"
    }
   ],
   "source": [
    "df_raw.describe()"
   ]
  },
  {
   "cell_type": "code",
   "execution_count": 9,
   "metadata": {},
   "outputs": [],
   "source": [
    "df_raw.sort_values(by=['time'], inplace=True)"
   ]
  },
  {
   "cell_type": "markdown",
   "metadata": {},
   "source": [
    "<font color=green>_Inspect, Clean, Verify and Report data_ "
   ]
  },
  {
   "cell_type": "markdown",
   "metadata": {},
   "source": [
    "<font color=red>4. Inspect the data i.e., data profiling and visualizating"
   ]
  },
  {
   "cell_type": "code",
   "execution_count": 10,
   "metadata": {},
   "outputs": [
    {
     "data": {
      "text/html": [
       "<div>\n",
       "<style scoped>\n",
       "    .dataframe tbody tr th:only-of-type {\n",
       "        vertical-align: middle;\n",
       "    }\n",
       "\n",
       "    .dataframe tbody tr th {\n",
       "        vertical-align: top;\n",
       "    }\n",
       "\n",
       "    .dataframe thead th {\n",
       "        text-align: right;\n",
       "    }\n",
       "</style>\n",
       "<table border=\"1\" class=\"dataframe\">\n",
       "  <thead>\n",
       "    <tr style=\"text-align: right;\">\n",
       "      <th></th>\n",
       "      <th>time</th>\n",
       "      <th>acceleration x</th>\n",
       "      <th>acceleration y</th>\n",
       "      <th>acceleration z</th>\n",
       "      <th>gyroscope x</th>\n",
       "      <th>gyroscope y</th>\n",
       "      <th>gyroscope z</th>\n",
       "    </tr>\n",
       "  </thead>\n",
       "  <tbody>\n",
       "    <tr>\n",
       "      <th>0</th>\n",
       "      <td>0.0130</td>\n",
       "      <td>2.7031</td>\n",
       "      <td>0.1245</td>\n",
       "      <td>-9.9144</td>\n",
       "      <td>0.0032</td>\n",
       "      <td>-0.0106</td>\n",
       "      <td>0.2366</td>\n",
       "    </tr>\n",
       "    <tr>\n",
       "      <th>1</th>\n",
       "      <td>0.0264</td>\n",
       "      <td>2.6743</td>\n",
       "      <td>0.0790</td>\n",
       "      <td>-9.8258</td>\n",
       "      <td>0.0037</td>\n",
       "      <td>-0.0099</td>\n",
       "      <td>0.1908</td>\n",
       "    </tr>\n",
       "    <tr>\n",
       "      <th>2</th>\n",
       "      <td>0.0395</td>\n",
       "      <td>2.6384</td>\n",
       "      <td>0.1724</td>\n",
       "      <td>-9.6774</td>\n",
       "      <td>0.0050</td>\n",
       "      <td>-0.0121</td>\n",
       "      <td>0.2824</td>\n",
       "    </tr>\n",
       "    <tr>\n",
       "      <th>3</th>\n",
       "      <td>0.0529</td>\n",
       "      <td>2.7246</td>\n",
       "      <td>0.0838</td>\n",
       "      <td>-9.8330</td>\n",
       "      <td>0.0046</td>\n",
       "      <td>-0.0113</td>\n",
       "      <td>0.0840</td>\n",
       "    </tr>\n",
       "    <tr>\n",
       "      <th>4</th>\n",
       "      <td>0.0666</td>\n",
       "      <td>2.6288</td>\n",
       "      <td>0.0838</td>\n",
       "      <td>-9.9479</td>\n",
       "      <td>0.0054</td>\n",
       "      <td>-0.0116</td>\n",
       "      <td>0.3359</td>\n",
       "    </tr>\n",
       "  </tbody>\n",
       "</table>\n",
       "</div>"
      ],
      "text/plain": [
       "     time  acceleration x  acceleration y  acceleration z  gyroscope x  \\\n",
       "0  0.0130          2.7031          0.1245         -9.9144       0.0032   \n",
       "1  0.0264          2.6743          0.0790         -9.8258       0.0037   \n",
       "2  0.0395          2.6384          0.1724         -9.6774       0.0050   \n",
       "3  0.0529          2.7246          0.0838         -9.8330       0.0046   \n",
       "4  0.0666          2.6288          0.0838         -9.9479       0.0054   \n",
       "\n",
       "   gyroscope y  gyroscope z  \n",
       "0      -0.0106       0.2366  \n",
       "1      -0.0099       0.1908  \n",
       "2      -0.0121       0.2824  \n",
       "3      -0.0113       0.0840  \n",
       "4      -0.0116       0.3359  "
      ]
     },
     "execution_count": 10,
     "metadata": {},
     "output_type": "execute_result"
    }
   ],
   "source": [
    "df_raw.head()"
   ]
  },
  {
   "cell_type": "code",
   "execution_count": 11,
   "metadata": {},
   "outputs": [],
   "source": [
    "missing_value = ['0']\n",
    "df_raw = pd.read_csv('MPURawData_0.csv', na_values=missing_value)"
   ]
  },
  {
   "cell_type": "code",
   "execution_count": 12,
   "metadata": {},
   "outputs": [
    {
     "data": {
      "text/plain": [
       "time              0\n",
       "acceleration x    0\n",
       "acceleration y    6\n",
       "acceleration z    0\n",
       "gyroscope x       0\n",
       "gyroscope y       0\n",
       "gyroscope z       1\n",
       "dtype: int64"
      ]
     },
     "execution_count": 12,
     "metadata": {},
     "output_type": "execute_result"
    }
   ],
   "source": [
    "df_raw.isnull().sum()"
   ]
  },
  {
   "cell_type": "code",
   "execution_count": 13,
   "metadata": {},
   "outputs": [
    {
     "data": {
      "text/plain": [
       "time              False\n",
       "acceleration x    False\n",
       "acceleration y     True\n",
       "acceleration z    False\n",
       "gyroscope x       False\n",
       "gyroscope y       False\n",
       "gyroscope z        True\n",
       "dtype: bool"
      ]
     },
     "execution_count": 13,
     "metadata": {},
     "output_type": "execute_result"
    }
   ],
   "source": [
    "df_raw.isnull().any()"
   ]
  },
  {
   "cell_type": "code",
   "execution_count": 14,
   "metadata": {},
   "outputs": [
    {
     "data": {
      "text/plain": [
       "<matplotlib.axes._subplots.AxesSubplot at 0x1d60d0a17c8>"
      ]
     },
     "execution_count": 14,
     "metadata": {},
     "output_type": "execute_result"
    },
    {
     "data": {
      "image/png": "[encoded data removed]",
      "text/plain": [
       "<Figure size 432x288 with 2 Axes>"
      ]
     },
     "metadata": {
      "needs_background": "light"
     },
     "output_type": "display_data"
    }
   ],
   "source": [
    "sb.heatmap(df_raw.isnull(), yticklabels=False, annot=True)"
   ]
  },
  {
   "cell_type": "code",
   "execution_count": 15,
   "metadata": {},
   "outputs": [
    {
     "data": {
      "text/html": [
       "<div>\n",
       "<style scoped>\n",
       "    .dataframe tbody tr th:only-of-type {\n",
       "        vertical-align: middle;\n",
       "    }\n",
       "\n",
       "    .dataframe tbody tr th {\n",
       "        vertical-align: top;\n",
       "    }\n",
       "\n",
       "    .dataframe thead th {\n",
       "        text-align: right;\n",
       "    }\n",
       "</style>\n",
       "<table border=\"1\" class=\"dataframe\">\n",
       "  <thead>\n",
       "    <tr style=\"text-align: right;\">\n",
       "      <th></th>\n",
       "      <th>time</th>\n",
       "      <th>acceleration x</th>\n",
       "      <th>acceleration y</th>\n",
       "      <th>acceleration z</th>\n",
       "      <th>gyroscope x</th>\n",
       "      <th>gyroscope y</th>\n",
       "      <th>gyroscope z</th>\n",
       "    </tr>\n",
       "  </thead>\n",
       "  <tbody>\n",
       "    <tr>\n",
       "      <th>16</th>\n",
       "      <td>0.2348</td>\n",
       "      <td>2.7102</td>\n",
       "      <td>NaN</td>\n",
       "      <td>-9.8258</td>\n",
       "      <td>0.0040</td>\n",
       "      <td>-0.0133</td>\n",
       "      <td>0.2214</td>\n",
       "    </tr>\n",
       "    <tr>\n",
       "      <th>54</th>\n",
       "      <td>0.9412</td>\n",
       "      <td>2.6600</td>\n",
       "      <td>0.1341</td>\n",
       "      <td>-9.9216</td>\n",
       "      <td>0.0052</td>\n",
       "      <td>-0.0139</td>\n",
       "      <td>NaN</td>\n",
       "    </tr>\n",
       "    <tr>\n",
       "      <th>244</th>\n",
       "      <td>4.5536</td>\n",
       "      <td>2.7102</td>\n",
       "      <td>NaN</td>\n",
       "      <td>-9.8809</td>\n",
       "      <td>0.0045</td>\n",
       "      <td>-0.0108</td>\n",
       "      <td>0.2443</td>\n",
       "    </tr>\n",
       "    <tr>\n",
       "      <th>339</th>\n",
       "      <td>6.3490</td>\n",
       "      <td>2.6408</td>\n",
       "      <td>NaN</td>\n",
       "      <td>-9.8426</td>\n",
       "      <td>0.0033</td>\n",
       "      <td>-0.0118</td>\n",
       "      <td>0.1756</td>\n",
       "    </tr>\n",
       "    <tr>\n",
       "      <th>927</th>\n",
       "      <td>17.4349</td>\n",
       "      <td>8.2863</td>\n",
       "      <td>NaN</td>\n",
       "      <td>5.7030</td>\n",
       "      <td>-0.3010</td>\n",
       "      <td>1.0769</td>\n",
       "      <td>-13.2214</td>\n",
       "    </tr>\n",
       "    <tr>\n",
       "      <th>929</th>\n",
       "      <td>17.4899</td>\n",
       "      <td>8.0756</td>\n",
       "      <td>NaN</td>\n",
       "      <td>5.2074</td>\n",
       "      <td>-0.0818</td>\n",
       "      <td>0.3355</td>\n",
       "      <td>-4.1221</td>\n",
       "    </tr>\n",
       "    <tr>\n",
       "      <th>1040</th>\n",
       "      <td>19.5977</td>\n",
       "      <td>8.0900</td>\n",
       "      <td>NaN</td>\n",
       "      <td>-1.2139</td>\n",
       "      <td>-0.4280</td>\n",
       "      <td>1.6863</td>\n",
       "      <td>-4.1298</td>\n",
       "    </tr>\n",
       "  </tbody>\n",
       "</table>\n",
       "</div>"
      ],
      "text/plain": [
       "         time  acceleration x  acceleration y  acceleration z  gyroscope x  \\\n",
       "16     0.2348          2.7102             NaN         -9.8258       0.0040   \n",
       "54     0.9412          2.6600          0.1341         -9.9216       0.0052   \n",
       "244    4.5536          2.7102             NaN         -9.8809       0.0045   \n",
       "339    6.3490          2.6408             NaN         -9.8426       0.0033   \n",
       "927   17.4349          8.2863             NaN          5.7030      -0.3010   \n",
       "929   17.4899          8.0756             NaN          5.2074      -0.0818   \n",
       "1040  19.5977          8.0900             NaN         -1.2139      -0.4280   \n",
       "\n",
       "      gyroscope y  gyroscope z  \n",
       "16        -0.0133       0.2214  \n",
       "54        -0.0139          NaN  \n",
       "244       -0.0108       0.2443  \n",
       "339       -0.0118       0.1756  \n",
       "927        1.0769     -13.2214  \n",
       "929        0.3355      -4.1221  \n",
       "1040       1.6863      -4.1298  "
      ]
     },
     "execution_count": 15,
     "metadata": {},
     "output_type": "execute_result"
    }
   ],
   "source": [
    "is_nan = df_raw.isnull()\n",
    "row_has_nan = is_nan.any(axis=1)\n",
    "rows_with_nan = df_raw[row_has_nan]\n",
    "rows_with_nan"
   ]
  },
  {
   "cell_type": "code",
   "execution_count": 16,
   "metadata": {},
   "outputs": [],
   "source": [
    "duplicate_acc = df_raw[df_raw.duplicated(['acceleration x','acceleration y','acceleration z'], keep = False)]\n",
    "duplicate_gy = df_raw[df_raw.duplicated(['gyroscope x','gyroscope y','gyroscope z'], keep = False)]\n",
    "duplicate = df_raw[df_raw.duplicated(['acceleration x','acceleration y','acceleration z', 'gyroscope x','gyroscope y','gyroscope z'], keep = False)]"
   ]
  },
  {
   "cell_type": "code",
   "execution_count": 17,
   "metadata": {},
   "outputs": [
    {
     "data": {
      "text/html": [
       "<div>\n",
       "<style scoped>\n",
       "    .dataframe tbody tr th:only-of-type {\n",
       "        vertical-align: middle;\n",
       "    }\n",
       "\n",
       "    .dataframe tbody tr th {\n",
       "        vertical-align: top;\n",
       "    }\n",
       "\n",
       "    .dataframe thead th {\n",
       "        text-align: right;\n",
       "    }\n",
       "</style>\n",
       "<table border=\"1\" class=\"dataframe\">\n",
       "  <thead>\n",
       "    <tr style=\"text-align: right;\">\n",
       "      <th></th>\n",
       "      <th>time</th>\n",
       "      <th>acceleration x</th>\n",
       "      <th>acceleration y</th>\n",
       "      <th>acceleration z</th>\n",
       "      <th>gyroscope x</th>\n",
       "      <th>gyroscope y</th>\n",
       "      <th>gyroscope z</th>\n",
       "    </tr>\n",
       "  </thead>\n",
       "  <tbody>\n",
       "    <tr>\n",
       "      <th>31</th>\n",
       "      <td>0.5136</td>\n",
       "      <td>2.7198</td>\n",
       "      <td>0.1125</td>\n",
       "      <td>-9.7755</td>\n",
       "      <td>0.0040</td>\n",
       "      <td>-0.0113</td>\n",
       "      <td>0.2214</td>\n",
       "    </tr>\n",
       "    <tr>\n",
       "      <th>110</th>\n",
       "      <td>2.0049</td>\n",
       "      <td>2.7007</td>\n",
       "      <td>0.1508</td>\n",
       "      <td>-9.7923</td>\n",
       "      <td>0.0038</td>\n",
       "      <td>-0.0119</td>\n",
       "      <td>0.2824</td>\n",
       "    </tr>\n",
       "    <tr>\n",
       "      <th>316</th>\n",
       "      <td>5.9176</td>\n",
       "      <td>2.7007</td>\n",
       "      <td>0.1508</td>\n",
       "      <td>-9.7923</td>\n",
       "      <td>0.0033</td>\n",
       "      <td>-0.0114</td>\n",
       "      <td>0.1679</td>\n",
       "    </tr>\n",
       "    <tr>\n",
       "      <th>326</th>\n",
       "      <td>6.1055</td>\n",
       "      <td>2.7198</td>\n",
       "      <td>0.1125</td>\n",
       "      <td>-9.7755</td>\n",
       "      <td>0.0029</td>\n",
       "      <td>-0.0128</td>\n",
       "      <td>0.2137</td>\n",
       "    </tr>\n",
       "  </tbody>\n",
       "</table>\n",
       "</div>"
      ],
      "text/plain": [
       "       time  acceleration x  acceleration y  acceleration z  gyroscope x  \\\n",
       "31   0.5136          2.7198          0.1125         -9.7755       0.0040   \n",
       "110  2.0049          2.7007          0.1508         -9.7923       0.0038   \n",
       "316  5.9176          2.7007          0.1508         -9.7923       0.0033   \n",
       "326  6.1055          2.7198          0.1125         -9.7755       0.0029   \n",
       "\n",
       "     gyroscope y  gyroscope z  \n",
       "31       -0.0113       0.2214  \n",
       "110      -0.0119       0.2824  \n",
       "316      -0.0114       0.1679  \n",
       "326      -0.0128       0.2137  "
      ]
     },
     "execution_count": 17,
     "metadata": {},
     "output_type": "execute_result"
    }
   ],
   "source": [
    "duplicate_acc"
   ]
  },
  {
   "cell_type": "code",
   "execution_count": 18,
   "metadata": {},
   "outputs": [
    {
     "data": {
      "text/html": [
       "<div>\n",
       "<style scoped>\n",
       "    .dataframe tbody tr th:only-of-type {\n",
       "        vertical-align: middle;\n",
       "    }\n",
       "\n",
       "    .dataframe tbody tr th {\n",
       "        vertical-align: top;\n",
       "    }\n",
       "\n",
       "    .dataframe thead th {\n",
       "        text-align: right;\n",
       "    }\n",
       "</style>\n",
       "<table border=\"1\" class=\"dataframe\">\n",
       "  <thead>\n",
       "    <tr style=\"text-align: right;\">\n",
       "      <th></th>\n",
       "      <th>time</th>\n",
       "      <th>acceleration x</th>\n",
       "      <th>acceleration y</th>\n",
       "      <th>acceleration z</th>\n",
       "      <th>gyroscope x</th>\n",
       "      <th>gyroscope y</th>\n",
       "      <th>gyroscope z</th>\n",
       "    </tr>\n",
       "  </thead>\n",
       "  <tbody>\n",
       "    <tr>\n",
       "      <th>120</th>\n",
       "      <td>2.1967</td>\n",
       "      <td>2.6528</td>\n",
       "      <td>0.1245</td>\n",
       "      <td>-9.6774</td>\n",
       "      <td>0.0033</td>\n",
       "      <td>-0.0114</td>\n",
       "      <td>0.2901</td>\n",
       "    </tr>\n",
       "    <tr>\n",
       "      <th>123</th>\n",
       "      <td>2.2530</td>\n",
       "      <td>2.6647</td>\n",
       "      <td>0.0694</td>\n",
       "      <td>-9.9599</td>\n",
       "      <td>0.0043</td>\n",
       "      <td>-0.0117</td>\n",
       "      <td>0.1450</td>\n",
       "    </tr>\n",
       "    <tr>\n",
       "      <th>187</th>\n",
       "      <td>3.4801</td>\n",
       "      <td>2.7390</td>\n",
       "      <td>0.1077</td>\n",
       "      <td>-9.8976</td>\n",
       "      <td>0.0043</td>\n",
       "      <td>-0.0117</td>\n",
       "      <td>0.1450</td>\n",
       "    </tr>\n",
       "    <tr>\n",
       "      <th>325</th>\n",
       "      <td>6.0868</td>\n",
       "      <td>2.6767</td>\n",
       "      <td>0.1484</td>\n",
       "      <td>-9.7444</td>\n",
       "      <td>0.0033</td>\n",
       "      <td>-0.0114</td>\n",
       "      <td>0.2901</td>\n",
       "    </tr>\n",
       "  </tbody>\n",
       "</table>\n",
       "</div>"
      ],
      "text/plain": [
       "       time  acceleration x  acceleration y  acceleration z  gyroscope x  \\\n",
       "120  2.1967          2.6528          0.1245         -9.6774       0.0033   \n",
       "123  2.2530          2.6647          0.0694         -9.9599       0.0043   \n",
       "187  3.4801          2.7390          0.1077         -9.8976       0.0043   \n",
       "325  6.0868          2.6767          0.1484         -9.7444       0.0033   \n",
       "\n",
       "     gyroscope y  gyroscope z  \n",
       "120      -0.0114       0.2901  \n",
       "123      -0.0117       0.1450  \n",
       "187      -0.0117       0.1450  \n",
       "325      -0.0114       0.2901  "
      ]
     },
     "execution_count": 18,
     "metadata": {},
     "output_type": "execute_result"
    }
   ],
   "source": [
    "duplicate_gy"
   ]
  },
  {
   "cell_type": "code",
   "execution_count": 19,
   "metadata": {},
   "outputs": [
    {
     "data": {
      "text/html": [
       "<div>\n",
       "<style scoped>\n",
       "    .dataframe tbody tr th:only-of-type {\n",
       "        vertical-align: middle;\n",
       "    }\n",
       "\n",
       "    .dataframe tbody tr th {\n",
       "        vertical-align: top;\n",
       "    }\n",
       "\n",
       "    .dataframe thead th {\n",
       "        text-align: right;\n",
       "    }\n",
       "</style>\n",
       "<table border=\"1\" class=\"dataframe\">\n",
       "  <thead>\n",
       "    <tr style=\"text-align: right;\">\n",
       "      <th></th>\n",
       "      <th>time</th>\n",
       "      <th>acceleration x</th>\n",
       "      <th>acceleration y</th>\n",
       "      <th>acceleration z</th>\n",
       "      <th>gyroscope x</th>\n",
       "      <th>gyroscope y</th>\n",
       "      <th>gyroscope z</th>\n",
       "    </tr>\n",
       "  </thead>\n",
       "  <tbody>\n",
       "  </tbody>\n",
       "</table>\n",
       "</div>"
      ],
      "text/plain": [
       "Empty DataFrame\n",
       "Columns: [time, acceleration x, acceleration y, acceleration z, gyroscope x, gyroscope y, gyroscope z]\n",
       "Index: []"
      ]
     },
     "execution_count": 19,
     "metadata": {},
     "output_type": "execute_result"
    }
   ],
   "source": [
    "duplicate"
   ]
  },
  {
   "cell_type": "markdown",
   "metadata": {},
   "source": [
    "Since the data we are working with is a raw dataset, we need to first calculate the acceleration (from accelerometer raw data) and angular velocity (from gyroscope raw data) by dividing sensor raw data with their sensitivity scale factor.\n",
    "\n",
    "source: \n",
    "- https://www.electronicwings.com/sensors-modules/mpu6050-gyroscope-accelerometer-temperature-sensor-module\n",
    "- https://howtomechatronics.com/tutorials/arduino/arduino-and-mpu6050-accelerometer-and-gyroscope-tutorial/"
   ]
  },
  {
   "cell_type": "code",
   "execution_count": 20,
   "metadata": {},
   "outputs": [],
   "source": [
    "df = df_raw.copy()"
   ]
  },
  {
   "cell_type": "code",
   "execution_count": 21,
   "metadata": {},
   "outputs": [],
   "source": [
    "df['acceleration x'] = df['acceleration x']/16384\n",
    "df['acceleration y'] = df['acceleration y']/16384\n",
    "df['acceleration z'] = df['acceleration z']/16384\n",
    "\n",
    "# in g force"
   ]
  },
  {
   "cell_type": "code",
   "execution_count": 22,
   "metadata": {},
   "outputs": [],
   "source": [
    "df['gyroscope x'] = df['gyroscope x']/131\n",
    "df['gyroscope y'] = df['gyroscope y']/131\n",
    "df['gyroscope z'] = df['gyroscope z']/131\n",
    "\n",
    "# in degree per second"
   ]
  },
  {
   "cell_type": "code",
   "execution_count": 23,
   "metadata": {},
   "outputs": [
    {
     "data": {
      "text/html": [
       "<div>\n",
       "<style scoped>\n",
       "    .dataframe tbody tr th:only-of-type {\n",
       "        vertical-align: middle;\n",
       "    }\n",
       "\n",
       "    .dataframe tbody tr th {\n",
       "        vertical-align: top;\n",
       "    }\n",
       "\n",
       "    .dataframe thead th {\n",
       "        text-align: right;\n",
       "    }\n",
       "</style>\n",
       "<table border=\"1\" class=\"dataframe\">\n",
       "  <thead>\n",
       "    <tr style=\"text-align: right;\">\n",
       "      <th></th>\n",
       "      <th>time</th>\n",
       "      <th>acceleration x</th>\n",
       "      <th>acceleration y</th>\n",
       "      <th>acceleration z</th>\n",
       "      <th>gyroscope x</th>\n",
       "      <th>gyroscope y</th>\n",
       "      <th>gyroscope z</th>\n",
       "    </tr>\n",
       "  </thead>\n",
       "  <tbody>\n",
       "    <tr>\n",
       "      <th>0</th>\n",
       "      <td>0.0130</td>\n",
       "      <td>0.000165</td>\n",
       "      <td>0.000008</td>\n",
       "      <td>-0.000605</td>\n",
       "      <td>0.000024</td>\n",
       "      <td>-0.000081</td>\n",
       "      <td>0.001806</td>\n",
       "    </tr>\n",
       "    <tr>\n",
       "      <th>1</th>\n",
       "      <td>0.0264</td>\n",
       "      <td>0.000163</td>\n",
       "      <td>0.000005</td>\n",
       "      <td>-0.000600</td>\n",
       "      <td>0.000028</td>\n",
       "      <td>-0.000076</td>\n",
       "      <td>0.001456</td>\n",
       "    </tr>\n",
       "    <tr>\n",
       "      <th>2</th>\n",
       "      <td>0.0395</td>\n",
       "      <td>0.000161</td>\n",
       "      <td>0.000011</td>\n",
       "      <td>-0.000591</td>\n",
       "      <td>0.000038</td>\n",
       "      <td>-0.000092</td>\n",
       "      <td>0.002156</td>\n",
       "    </tr>\n",
       "    <tr>\n",
       "      <th>3</th>\n",
       "      <td>0.0529</td>\n",
       "      <td>0.000166</td>\n",
       "      <td>0.000005</td>\n",
       "      <td>-0.000600</td>\n",
       "      <td>0.000035</td>\n",
       "      <td>-0.000086</td>\n",
       "      <td>0.000641</td>\n",
       "    </tr>\n",
       "    <tr>\n",
       "      <th>4</th>\n",
       "      <td>0.0666</td>\n",
       "      <td>0.000160</td>\n",
       "      <td>0.000005</td>\n",
       "      <td>-0.000607</td>\n",
       "      <td>0.000041</td>\n",
       "      <td>-0.000089</td>\n",
       "      <td>0.002564</td>\n",
       "    </tr>\n",
       "    <tr>\n",
       "      <th>...</th>\n",
       "      <td>...</td>\n",
       "      <td>...</td>\n",
       "      <td>...</td>\n",
       "      <td>...</td>\n",
       "      <td>...</td>\n",
       "      <td>...</td>\n",
       "      <td>...</td>\n",
       "    </tr>\n",
       "    <tr>\n",
       "      <th>1219</th>\n",
       "      <td>23.0377</td>\n",
       "      <td>0.000449</td>\n",
       "      <td>-0.000005</td>\n",
       "      <td>0.000216</td>\n",
       "      <td>-0.000873</td>\n",
       "      <td>-0.014576</td>\n",
       "      <td>-0.340773</td>\n",
       "    </tr>\n",
       "    <tr>\n",
       "      <th>1220</th>\n",
       "      <td>23.0583</td>\n",
       "      <td>0.000456</td>\n",
       "      <td>0.000027</td>\n",
       "      <td>0.000060</td>\n",
       "      <td>0.000020</td>\n",
       "      <td>-0.014576</td>\n",
       "      <td>-0.414486</td>\n",
       "    </tr>\n",
       "    <tr>\n",
       "      <th>1221</th>\n",
       "      <td>23.0774</td>\n",
       "      <td>0.000475</td>\n",
       "      <td>0.000062</td>\n",
       "      <td>-0.000098</td>\n",
       "      <td>-0.000479</td>\n",
       "      <td>-0.014576</td>\n",
       "      <td>-0.464134</td>\n",
       "    </tr>\n",
       "    <tr>\n",
       "      <th>1222</th>\n",
       "      <td>23.0969</td>\n",
       "      <td>0.000457</td>\n",
       "      <td>0.000116</td>\n",
       "      <td>-0.000213</td>\n",
       "      <td>-0.002154</td>\n",
       "      <td>-0.014576</td>\n",
       "      <td>-0.542976</td>\n",
       "    </tr>\n",
       "    <tr>\n",
       "      <th>1223</th>\n",
       "      <td>23.1318</td>\n",
       "      <td>0.000400</td>\n",
       "      <td>0.000201</td>\n",
       "      <td>-0.000506</td>\n",
       "      <td>-0.007812</td>\n",
       "      <td>-0.014576</td>\n",
       "      <td>-0.618903</td>\n",
       "    </tr>\n",
       "  </tbody>\n",
       "</table>\n",
       "<p>1224 rows × 7 columns</p>\n",
       "</div>"
      ],
      "text/plain": [
       "         time  acceleration x  acceleration y  acceleration z  gyroscope x  \\\n",
       "0      0.0130        0.000165        0.000008       -0.000605     0.000024   \n",
       "1      0.0264        0.000163        0.000005       -0.000600     0.000028   \n",
       "2      0.0395        0.000161        0.000011       -0.000591     0.000038   \n",
       "3      0.0529        0.000166        0.000005       -0.000600     0.000035   \n",
       "4      0.0666        0.000160        0.000005       -0.000607     0.000041   \n",
       "...       ...             ...             ...             ...          ...   \n",
       "1219  23.0377        0.000449       -0.000005        0.000216    -0.000873   \n",
       "1220  23.0583        0.000456        0.000027        0.000060     0.000020   \n",
       "1221  23.0774        0.000475        0.000062       -0.000098    -0.000479   \n",
       "1222  23.0969        0.000457        0.000116       -0.000213    -0.002154   \n",
       "1223  23.1318        0.000400        0.000201       -0.000506    -0.007812   \n",
       "\n",
       "      gyroscope y  gyroscope z  \n",
       "0       -0.000081     0.001806  \n",
       "1       -0.000076     0.001456  \n",
       "2       -0.000092     0.002156  \n",
       "3       -0.000086     0.000641  \n",
       "4       -0.000089     0.002564  \n",
       "...           ...          ...  \n",
       "1219    -0.014576    -0.340773  \n",
       "1220    -0.014576    -0.414486  \n",
       "1221    -0.014576    -0.464134  \n",
       "1222    -0.014576    -0.542976  \n",
       "1223    -0.014576    -0.618903  \n",
       "\n",
       "[1224 rows x 7 columns]"
      ]
     },
     "execution_count": 23,
     "metadata": {},
     "output_type": "execute_result"
    }
   ],
   "source": [
    "df"
   ]
  },
  {
   "cell_type": "markdown",
   "metadata": {},
   "source": [
    "Analyzing and visualizing the data can help us look for outliers which may or may not necessarily be incorrect but still worth inspecting."
   ]
  },
  {
   "cell_type": "code",
   "execution_count": 24,
   "metadata": {},
   "outputs": [
    {
     "data": {
      "text/plain": [
       "<matplotlib.axes._subplots.AxesSubplot at 0x1d612b661c8>"
      ]
     },
     "execution_count": 24,
     "metadata": {},
     "output_type": "execute_result"
    },
    {
     "data": {
      "image/png": "[encoded data removed]",
      "text/plain": [
       "<Figure size 432x288 with 1 Axes>"
      ]
     },
     "metadata": {
      "needs_background": "light"
     },
     "output_type": "display_data"
    }
   ],
   "source": [
    "df.plot.line(x='time')"
   ]
  },
  {
   "cell_type": "code",
   "execution_count": 25,
   "metadata": {},
   "outputs": [
    {
     "data": {
      "text/plain": [
       "<matplotlib.axes._subplots.AxesSubplot at 0x1d612417ec8>"
      ]
     },
     "execution_count": 25,
     "metadata": {},
     "output_type": "execute_result"
    },
    {
     "data": {
      "image/png": "[encoded data removed]",
      "text/plain": [
       "<Figure size 432x288 with 1 Axes>"
      ]
     },
     "metadata": {
      "needs_background": "light"
     },
     "output_type": "display_data"
    }
   ],
   "source": [
    "df.plot.scatter(x='time', y='acceleration x')"
   ]
  },
  {
   "cell_type": "code",
   "execution_count": 26,
   "metadata": {},
   "outputs": [
    {
     "data": {
      "text/plain": [
       "<matplotlib.axes._subplots.AxesSubplot at 0x1d61252e648>"
      ]
     },
     "execution_count": 26,
     "metadata": {},
     "output_type": "execute_result"
    },
    {
     "data": {
      "image/png": "[encoded data removed]",
      "text/plain": [
       "<Figure size 432x288 with 1 Axes>"
      ]
     },
     "metadata": {
      "needs_background": "light"
     },
     "output_type": "display_data"
    }
   ],
   "source": [
    "df.plot.scatter(x='time', y='acceleration y')"
   ]
  },
  {
   "cell_type": "code",
   "execution_count": 27,
   "metadata": {},
   "outputs": [
    {
     "data": {
      "text/plain": [
       "<matplotlib.axes._subplots.AxesSubplot at 0x1d612577b08>"
      ]
     },
     "execution_count": 27,
     "metadata": {},
     "output_type": "execute_result"
    },
    {
     "data": {
      "image/png": "[encoded data removed]",
      "text/plain": [
       "<Figure size 432x288 with 1 Axes>"
      ]
     },
     "metadata": {
      "needs_background": "light"
     },
     "output_type": "display_data"
    }
   ],
   "source": [
    "df.plot.scatter(x='time', y='acceleration z')"
   ]
  },
  {
   "cell_type": "code",
   "execution_count": 28,
   "metadata": {},
   "outputs": [
    {
     "data": {
      "text/plain": [
       "<matplotlib.axes._subplots.AxesSubplot at 0x1d612595208>"
      ]
     },
     "execution_count": 28,
     "metadata": {},
     "output_type": "execute_result"
    },
    {
     "data": {
      "image/png": "[encoded data removed]",
      "text/plain": [
       "<Figure size 432x288 with 1 Axes>"
      ]
     },
     "metadata": {
      "needs_background": "light"
     },
     "output_type": "display_data"
    }
   ],
   "source": [
    "df.plot.scatter(x='time', y='gyroscope x')"
   ]
  },
  {
   "cell_type": "code",
   "execution_count": 29,
   "metadata": {},
   "outputs": [
    {
     "data": {
      "text/plain": [
       "<matplotlib.axes._subplots.AxesSubplot at 0x1d61236a608>"
      ]
     },
     "execution_count": 29,
     "metadata": {},
     "output_type": "execute_result"
    },
    {
     "data": {
      "image/png": "[encoded data removed]",
      "text/plain": [
       "<Figure size 432x288 with 1 Axes>"
      ]
     },
     "metadata": {
      "needs_background": "light"
     },
     "output_type": "display_data"
    }
   ],
   "source": [
    "df.plot.scatter(x='time', y='gyroscope y')"
   ]
  },
  {
   "cell_type": "code",
   "execution_count": 30,
   "metadata": {},
   "outputs": [
    {
     "data": {
      "text/plain": [
       "<matplotlib.axes._subplots.AxesSubplot at 0x1d612595d48>"
      ]
     },
     "execution_count": 30,
     "metadata": {},
     "output_type": "execute_result"
    },
    {
     "data": {
      "image/png": "[encoded data removed]",
      "text/plain": [
       "<Figure size 432x288 with 1 Axes>"
      ]
     },
     "metadata": {
      "needs_background": "light"
     },
     "output_type": "display_data"
    }
   ],
   "source": [
    "df.plot.scatter(x='time', y='gyroscope z')"
   ]
  },
  {
   "cell_type": "code",
   "execution_count": 31,
   "metadata": {},
   "outputs": [
    {
     "data": {
      "text/plain": [
       "<matplotlib.axes._subplots.AxesSubplot at 0x1d61240f9c8>"
      ]
     },
     "execution_count": 31,
     "metadata": {},
     "output_type": "execute_result"
    },
    {
     "data": {
      "image/png": "[encoded data removed]",
      "text/plain": [
       "<Figure size 432x288 with 1 Axes>"
      ]
     },
     "metadata": {
      "needs_background": "light"
     },
     "output_type": "display_data"
    }
   ],
   "source": [
    "df.boxplot(column='acceleration x')"
   ]
  },
  {
   "cell_type": "code",
   "execution_count": 32,
   "metadata": {},
   "outputs": [
    {
     "data": {
      "text/plain": [
       "<matplotlib.axes._subplots.AxesSubplot at 0x1d6120e7d08>"
      ]
     },
     "execution_count": 32,
     "metadata": {},
     "output_type": "execute_result"
    },
    {
     "data": {
      "image/png": "[encoded data removed]",
      "text/plain": [
       "<Figure size 432x288 with 1 Axes>"
      ]
     },
     "metadata": {
      "needs_background": "light"
     },
     "output_type": "display_data"
    }
   ],
   "source": [
    "df.boxplot(column='acceleration y')"
   ]
  },
  {
   "cell_type": "code",
   "execution_count": 33,
   "metadata": {},
   "outputs": [
    {
     "data": {
      "text/plain": [
       "<matplotlib.axes._subplots.AxesSubplot at 0x1d61214bf08>"
      ]
     },
     "execution_count": 33,
     "metadata": {},
     "output_type": "execute_result"
    },
    {
     "data": {
      "image/png": "[encoded data removed]",
      "text/plain": [
       "<Figure size 432x288 with 1 Axes>"
      ]
     },
     "metadata": {
      "needs_background": "light"
     },
     "output_type": "display_data"
    }
   ],
   "source": [
    "df.boxplot(column='acceleration z')"
   ]
  },
  {
   "cell_type": "code",
   "execution_count": 34,
   "metadata": {},
   "outputs": [
    {
     "data": {
      "text/plain": [
       "<matplotlib.axes._subplots.AxesSubplot at 0x1d6121b0048>"
      ]
     },
     "execution_count": 34,
     "metadata": {},
     "output_type": "execute_result"
    },
    {
     "data": {
      "image/png": "[encoded data removed]",
      "text/plain": [
       "<Figure size 432x288 with 1 Axes>"
      ]
     },
     "metadata": {
      "needs_background": "light"
     },
     "output_type": "display_data"
    }
   ],
   "source": [
    "df.boxplot(column='gyroscope x')"
   ]
  },
  {
   "cell_type": "code",
   "execution_count": 35,
   "metadata": {},
   "outputs": [
    {
     "data": {
      "text/plain": [
       "<matplotlib.axes._subplots.AxesSubplot at 0x1d612221288>"
      ]
     },
     "execution_count": 35,
     "metadata": {},
     "output_type": "execute_result"
    },
    {
     "data": {
      "image/png": "[encoded data removed]",
      "text/plain": [
       "<Figure size 432x288 with 1 Axes>"
      ]
     },
     "metadata": {
      "needs_background": "light"
     },
     "output_type": "display_data"
    }
   ],
   "source": [
    "df.boxplot(column='gyroscope y')"
   ]
  },
  {
   "cell_type": "code",
   "execution_count": 36,
   "metadata": {},
   "outputs": [
    {
     "data": {
      "text/plain": [
       "<matplotlib.axes._subplots.AxesSubplot at 0x1d61228c608>"
      ]
     },
     "execution_count": 36,
     "metadata": {},
     "output_type": "execute_result"
    },
    {
     "data": {
      "image/png": "[encoded data removed]",
      "text/plain": [
       "<Figure size 432x288 with 1 Axes>"
      ]
     },
     "metadata": {
      "needs_background": "light"
     },
     "output_type": "display_data"
    }
   ],
   "source": [
    "df.boxplot(column='gyroscope z')"
   ]
  },
  {
   "cell_type": "code",
   "execution_count": 37,
   "metadata": {},
   "outputs": [
    {
     "data": {
      "image/png": "[encoded data removed]",
      "text/plain": [
       "<Figure size 432x288 with 1 Axes>"
      ]
     },
     "metadata": {
      "needs_background": "light"
     },
     "output_type": "display_data"
    }
   ],
   "source": [
    "ax = plt.axes(projection='3d')\n",
    "x = df['acceleration x']\n",
    "y = df['acceleration y']\n",
    "z = df['acceleration z']\n",
    "ax.plot3D(x,y,z, label='Acceleration')\n",
    "ax.set_xlabel('X')\n",
    "ax.set_ylabel('Y')\n",
    "ax.set_zlabel('Z')\n",
    "plt.show()"
   ]
  },
  {
   "cell_type": "code",
   "execution_count": 38,
   "metadata": {},
   "outputs": [
    {
     "data": {
      "image/png": "[encoded data removed]",
      "text/plain": [
       "<Figure size 432x288 with 1 Axes>"
      ]
     },
     "metadata": {
      "needs_background": "light"
     },
     "output_type": "display_data"
    }
   ],
   "source": [
    "gy = plt.axes(projection='3d')\n",
    "x = df['gyroscope x']\n",
    "y = df['gyroscope y']\n",
    "z = df['gyroscope z']\n",
    "gy.plot3D(x,y,z, label='Gyroscope')\n",
    "gy.set_xlabel('X')\n",
    "gy.set_ylabel('Y')\n",
    "gy.set_zlabel('Z')\n",
    "plt.show()"
   ]
  },
  {
   "cell_type": "code",
   "execution_count": 39,
   "metadata": {},
   "outputs": [],
   "source": [
    "#acc3d = plt.figure().gca(projection='3d')\n",
    "#acc3d.scatter(df['acceleration x'], df['acceleration y'], df['acceleration z'])\n",
    "#acc3d.set_xlabel('Acc. X')\n",
    "#acc3d.set_ylabel('Acc. Y')\n",
    "#acc3d.set_zlabel('Acc. Z')\n",
    "#plt.show()"
   ]
  },
  {
   "cell_type": "code",
   "execution_count": 40,
   "metadata": {},
   "outputs": [],
   "source": [
    "#gyro3d = plt.figure().gca(projection='3d')\n",
    "#gyro3d.scatter(df['gyroscope x'], df['gyroscope y'], df['gyroscope z'])\n",
    "#gyro3d.set_xlabel('Gyro. X')\n",
    "#gyro3d.set_ylabel('Gyro. Y')\n",
    "#gyro3d.set_zlabel('Gyro. Z')\n",
    "#plt.show()"
   ]
  },
  {
   "cell_type": "markdown",
   "metadata": {},
   "source": [
    "The duplicate values of acceleration and gyroscope occur at different instances of time, therefore inspecting them further won't be necessary."
   ]
  },
  {
   "cell_type": "markdown",
   "metadata": {},
   "source": [
    "NULL values will can either be removed all together or be estimated using different approaches. As we are working with a dataset that concerns itself with very small increments in time, getting rid of any data could lead to loss of valuable information. Therefore we'll be using interpolation, i.e., estimating the unknown values that fall in between known values, to impute values to missing cells."
   ]
  },
  {
   "cell_type": "code",
   "execution_count": 41,
   "metadata": {},
   "outputs": [],
   "source": [
    "df_replace_null = df.interpolate(method='linear',axis=0)"
   ]
  },
  {
   "cell_type": "code",
   "execution_count": 42,
   "metadata": {},
   "outputs": [
    {
     "data": {
      "text/html": [
       "<div>\n",
       "<style scoped>\n",
       "    .dataframe tbody tr th:only-of-type {\n",
       "        vertical-align: middle;\n",
       "    }\n",
       "\n",
       "    .dataframe tbody tr th {\n",
       "        vertical-align: top;\n",
       "    }\n",
       "\n",
       "    .dataframe thead th {\n",
       "        text-align: right;\n",
       "    }\n",
       "</style>\n",
       "<table border=\"1\" class=\"dataframe\">\n",
       "  <thead>\n",
       "    <tr style=\"text-align: right;\">\n",
       "      <th></th>\n",
       "      <th>time</th>\n",
       "      <th>acceleration x</th>\n",
       "      <th>acceleration y</th>\n",
       "      <th>acceleration z</th>\n",
       "      <th>gyroscope x</th>\n",
       "      <th>gyroscope y</th>\n",
       "      <th>gyroscope z</th>\n",
       "    </tr>\n",
       "  </thead>\n",
       "  <tbody>\n",
       "    <tr>\n",
       "      <th>0</th>\n",
       "      <td>0.0130</td>\n",
       "      <td>0.000165</td>\n",
       "      <td>0.000008</td>\n",
       "      <td>-0.000605</td>\n",
       "      <td>0.000024</td>\n",
       "      <td>-0.000081</td>\n",
       "      <td>0.001806</td>\n",
       "    </tr>\n",
       "    <tr>\n",
       "      <th>1</th>\n",
       "      <td>0.0264</td>\n",
       "      <td>0.000163</td>\n",
       "      <td>0.000005</td>\n",
       "      <td>-0.000600</td>\n",
       "      <td>0.000028</td>\n",
       "      <td>-0.000076</td>\n",
       "      <td>0.001456</td>\n",
       "    </tr>\n",
       "    <tr>\n",
       "      <th>2</th>\n",
       "      <td>0.0395</td>\n",
       "      <td>0.000161</td>\n",
       "      <td>0.000011</td>\n",
       "      <td>-0.000591</td>\n",
       "      <td>0.000038</td>\n",
       "      <td>-0.000092</td>\n",
       "      <td>0.002156</td>\n",
       "    </tr>\n",
       "    <tr>\n",
       "      <th>3</th>\n",
       "      <td>0.0529</td>\n",
       "      <td>0.000166</td>\n",
       "      <td>0.000005</td>\n",
       "      <td>-0.000600</td>\n",
       "      <td>0.000035</td>\n",
       "      <td>-0.000086</td>\n",
       "      <td>0.000641</td>\n",
       "    </tr>\n",
       "    <tr>\n",
       "      <th>4</th>\n",
       "      <td>0.0666</td>\n",
       "      <td>0.000160</td>\n",
       "      <td>0.000005</td>\n",
       "      <td>-0.000607</td>\n",
       "      <td>0.000041</td>\n",
       "      <td>-0.000089</td>\n",
       "      <td>0.002564</td>\n",
       "    </tr>\n",
       "    <tr>\n",
       "      <th>...</th>\n",
       "      <td>...</td>\n",
       "      <td>...</td>\n",
       "      <td>...</td>\n",
       "      <td>...</td>\n",
       "      <td>...</td>\n",
       "      <td>...</td>\n",
       "      <td>...</td>\n",
       "    </tr>\n",
       "    <tr>\n",
       "      <th>1219</th>\n",
       "      <td>23.0377</td>\n",
       "      <td>0.000449</td>\n",
       "      <td>-0.000005</td>\n",
       "      <td>0.000216</td>\n",
       "      <td>-0.000873</td>\n",
       "      <td>-0.014576</td>\n",
       "      <td>-0.340773</td>\n",
       "    </tr>\n",
       "    <tr>\n",
       "      <th>1220</th>\n",
       "      <td>23.0583</td>\n",
       "      <td>0.000456</td>\n",
       "      <td>0.000027</td>\n",
       "      <td>0.000060</td>\n",
       "      <td>0.000020</td>\n",
       "      <td>-0.014576</td>\n",
       "      <td>-0.414486</td>\n",
       "    </tr>\n",
       "    <tr>\n",
       "      <th>1221</th>\n",
       "      <td>23.0774</td>\n",
       "      <td>0.000475</td>\n",
       "      <td>0.000062</td>\n",
       "      <td>-0.000098</td>\n",
       "      <td>-0.000479</td>\n",
       "      <td>-0.014576</td>\n",
       "      <td>-0.464134</td>\n",
       "    </tr>\n",
       "    <tr>\n",
       "      <th>1222</th>\n",
       "      <td>23.0969</td>\n",
       "      <td>0.000457</td>\n",
       "      <td>0.000116</td>\n",
       "      <td>-0.000213</td>\n",
       "      <td>-0.002154</td>\n",
       "      <td>-0.014576</td>\n",
       "      <td>-0.542976</td>\n",
       "    </tr>\n",
       "    <tr>\n",
       "      <th>1223</th>\n",
       "      <td>23.1318</td>\n",
       "      <td>0.000400</td>\n",
       "      <td>0.000201</td>\n",
       "      <td>-0.000506</td>\n",
       "      <td>-0.007812</td>\n",
       "      <td>-0.014576</td>\n",
       "      <td>-0.618903</td>\n",
       "    </tr>\n",
       "  </tbody>\n",
       "</table>\n",
       "<p>1224 rows × 7 columns</p>\n",
       "</div>"
      ],
      "text/plain": [
       "         time  acceleration x  acceleration y  acceleration z  gyroscope x  \\\n",
       "0      0.0130        0.000165        0.000008       -0.000605     0.000024   \n",
       "1      0.0264        0.000163        0.000005       -0.000600     0.000028   \n",
       "2      0.0395        0.000161        0.000011       -0.000591     0.000038   \n",
       "3      0.0529        0.000166        0.000005       -0.000600     0.000035   \n",
       "4      0.0666        0.000160        0.000005       -0.000607     0.000041   \n",
       "...       ...             ...             ...             ...          ...   \n",
       "1219  23.0377        0.000449       -0.000005        0.000216    -0.000873   \n",
       "1220  23.0583        0.000456        0.000027        0.000060     0.000020   \n",
       "1221  23.0774        0.000475        0.000062       -0.000098    -0.000479   \n",
       "1222  23.0969        0.000457        0.000116       -0.000213    -0.002154   \n",
       "1223  23.1318        0.000400        0.000201       -0.000506    -0.007812   \n",
       "\n",
       "      gyroscope y  gyroscope z  \n",
       "0       -0.000081     0.001806  \n",
       "1       -0.000076     0.001456  \n",
       "2       -0.000092     0.002156  \n",
       "3       -0.000086     0.000641  \n",
       "4       -0.000089     0.002564  \n",
       "...           ...          ...  \n",
       "1219    -0.014576    -0.340773  \n",
       "1220    -0.014576    -0.414486  \n",
       "1221    -0.014576    -0.464134  \n",
       "1222    -0.014576    -0.542976  \n",
       "1223    -0.014576    -0.618903  \n",
       "\n",
       "[1224 rows x 7 columns]"
      ]
     },
     "execution_count": 42,
     "metadata": {},
     "output_type": "execute_result"
    }
   ],
   "source": [
    "df_replace_null"
   ]
  },
  {
   "cell_type": "code",
   "execution_count": 43,
   "metadata": {},
   "outputs": [],
   "source": [
    "#df.dropna(subset=['acceleration y','gyroscope z'], inplace=True)\n",
    "#df"
   ]
  },
  {
   "cell_type": "code",
   "execution_count": 44,
   "metadata": {},
   "outputs": [],
   "source": [
    "#df.reset_index()"
   ]
  },
  {
   "cell_type": "code",
   "execution_count": 45,
   "metadata": {},
   "outputs": [
    {
     "data": {
      "text/html": [
       "<div>\n",
       "<style scoped>\n",
       "    .dataframe tbody tr th:only-of-type {\n",
       "        vertical-align: middle;\n",
       "    }\n",
       "\n",
       "    .dataframe tbody tr th {\n",
       "        vertical-align: top;\n",
       "    }\n",
       "\n",
       "    .dataframe thead th {\n",
       "        text-align: right;\n",
       "    }\n",
       "</style>\n",
       "<table border=\"1\" class=\"dataframe\">\n",
       "  <thead>\n",
       "    <tr style=\"text-align: right;\">\n",
       "      <th></th>\n",
       "      <th>time</th>\n",
       "      <th>acceleration x</th>\n",
       "      <th>acceleration y</th>\n",
       "      <th>acceleration z</th>\n",
       "      <th>gyroscope x</th>\n",
       "      <th>gyroscope y</th>\n",
       "      <th>gyroscope z</th>\n",
       "    </tr>\n",
       "  </thead>\n",
       "  <tbody>\n",
       "    <tr>\n",
       "      <th>15</th>\n",
       "      <td>0.2212</td>\n",
       "      <td>0.000167</td>\n",
       "      <td>5.700684e-06</td>\n",
       "      <td>-0.000599</td>\n",
       "      <td>0.000024</td>\n",
       "      <td>-0.000092</td>\n",
       "      <td>0.014626</td>\n",
       "    </tr>\n",
       "    <tr>\n",
       "      <th>16</th>\n",
       "      <td>0.2348</td>\n",
       "      <td>0.000165</td>\n",
       "      <td>3.143311e-06</td>\n",
       "      <td>-0.000600</td>\n",
       "      <td>0.000031</td>\n",
       "      <td>-0.000102</td>\n",
       "      <td>0.001690</td>\n",
       "    </tr>\n",
       "    <tr>\n",
       "      <th>17</th>\n",
       "      <td>0.2526</td>\n",
       "      <td>0.000161</td>\n",
       "      <td>5.859375e-07</td>\n",
       "      <td>-0.000599</td>\n",
       "      <td>0.000024</td>\n",
       "      <td>-0.000088</td>\n",
       "      <td>0.002040</td>\n",
       "    </tr>\n",
       "  </tbody>\n",
       "</table>\n",
       "</div>"
      ],
      "text/plain": [
       "      time  acceleration x  acceleration y  acceleration z  gyroscope x  \\\n",
       "15  0.2212        0.000167    5.700684e-06       -0.000599     0.000024   \n",
       "16  0.2348        0.000165    3.143311e-06       -0.000600     0.000031   \n",
       "17  0.2526        0.000161    5.859375e-07       -0.000599     0.000024   \n",
       "\n",
       "    gyroscope y  gyroscope z  \n",
       "15    -0.000092     0.014626  \n",
       "16    -0.000102     0.001690  \n",
       "17    -0.000088     0.002040  "
      ]
     },
     "execution_count": 45,
     "metadata": {},
     "output_type": "execute_result"
    }
   ],
   "source": [
    "df_replace_null.iloc[15:18]"
   ]
  },
  {
   "cell_type": "code",
   "execution_count": 46,
   "metadata": {},
   "outputs": [
    {
     "data": {
      "text/html": [
       "<div>\n",
       "<style scoped>\n",
       "    .dataframe tbody tr th:only-of-type {\n",
       "        vertical-align: middle;\n",
       "    }\n",
       "\n",
       "    .dataframe tbody tr th {\n",
       "        vertical-align: top;\n",
       "    }\n",
       "\n",
       "    .dataframe thead th {\n",
       "        text-align: right;\n",
       "    }\n",
       "</style>\n",
       "<table border=\"1\" class=\"dataframe\">\n",
       "  <thead>\n",
       "    <tr style=\"text-align: right;\">\n",
       "      <th></th>\n",
       "      <th>time</th>\n",
       "      <th>acceleration x</th>\n",
       "      <th>acceleration y</th>\n",
       "      <th>acceleration z</th>\n",
       "      <th>gyroscope x</th>\n",
       "      <th>gyroscope y</th>\n",
       "      <th>gyroscope z</th>\n",
       "    </tr>\n",
       "  </thead>\n",
       "  <tbody>\n",
       "    <tr>\n",
       "      <th>count</th>\n",
       "      <td>1224.000000</td>\n",
       "      <td>1224.000000</td>\n",
       "      <td>1.224000e+03</td>\n",
       "      <td>1224.000000</td>\n",
       "      <td>1224.000000</td>\n",
       "      <td>1224.000000</td>\n",
       "      <td>1224.000000</td>\n",
       "    </tr>\n",
       "    <tr>\n",
       "      <th>mean</th>\n",
       "      <td>11.507798</td>\n",
       "      <td>0.000433</td>\n",
       "      <td>3.098157e-07</td>\n",
       "      <td>-0.000203</td>\n",
       "      <td>-0.000032</td>\n",
       "      <td>0.000062</td>\n",
       "      <td>0.007652</td>\n",
       "    </tr>\n",
       "    <tr>\n",
       "      <th>std</th>\n",
       "      <td>6.685576</td>\n",
       "      <td>0.000208</td>\n",
       "      <td>4.700426e-05</td>\n",
       "      <td>0.000361</td>\n",
       "      <td>0.001749</td>\n",
       "      <td>0.006518</td>\n",
       "      <td>0.103217</td>\n",
       "    </tr>\n",
       "    <tr>\n",
       "      <th>min</th>\n",
       "      <td>0.013000</td>\n",
       "      <td>-0.000075</td>\n",
       "      <td>-8.000671e-04</td>\n",
       "      <td>-0.001191</td>\n",
       "      <td>-0.007812</td>\n",
       "      <td>-0.014576</td>\n",
       "      <td>-0.618903</td>\n",
       "    </tr>\n",
       "    <tr>\n",
       "      <th>25%</th>\n",
       "      <td>5.725000</td>\n",
       "      <td>0.000165</td>\n",
       "      <td>-7.635498e-06</td>\n",
       "      <td>-0.000596</td>\n",
       "      <td>-0.000400</td>\n",
       "      <td>-0.000835</td>\n",
       "      <td>-0.002899</td>\n",
       "    </tr>\n",
       "    <tr>\n",
       "      <th>50%</th>\n",
       "      <td>11.517700</td>\n",
       "      <td>0.000529</td>\n",
       "      <td>4.968262e-06</td>\n",
       "      <td>-0.000220</td>\n",
       "      <td>0.000030</td>\n",
       "      <td>-0.000089</td>\n",
       "      <td>0.001690</td>\n",
       "    </tr>\n",
       "    <tr>\n",
       "      <th>75%</th>\n",
       "      <td>17.257150</td>\n",
       "      <td>0.000599</td>\n",
       "      <td>8.477783e-06</td>\n",
       "      <td>0.000075</td>\n",
       "      <td>0.000251</td>\n",
       "      <td>0.001924</td>\n",
       "      <td>0.017962</td>\n",
       "    </tr>\n",
       "    <tr>\n",
       "      <th>max</th>\n",
       "      <td>23.131800</td>\n",
       "      <td>0.001197</td>\n",
       "      <td>4.693726e-04</td>\n",
       "      <td>0.001040</td>\n",
       "      <td>0.007583</td>\n",
       "      <td>0.014576</td>\n",
       "      <td>0.807237</td>\n",
       "    </tr>\n",
       "  </tbody>\n",
       "</table>\n",
       "</div>"
      ],
      "text/plain": [
       "              time  acceleration x  acceleration y  acceleration z  \\\n",
       "count  1224.000000     1224.000000    1.224000e+03     1224.000000   \n",
       "mean     11.507798        0.000433    3.098157e-07       -0.000203   \n",
       "std       6.685576        0.000208    4.700426e-05        0.000361   \n",
       "min       0.013000       -0.000075   -8.000671e-04       -0.001191   \n",
       "25%       5.725000        0.000165   -7.635498e-06       -0.000596   \n",
       "50%      11.517700        0.000529    4.968262e-06       -0.000220   \n",
       "75%      17.257150        0.000599    8.477783e-06        0.000075   \n",
       "max      23.131800        0.001197    4.693726e-04        0.001040   \n",
       "\n",
       "       gyroscope x  gyroscope y  gyroscope z  \n",
       "count  1224.000000  1224.000000  1224.000000  \n",
       "mean     -0.000032     0.000062     0.007652  \n",
       "std       0.001749     0.006518     0.103217  \n",
       "min      -0.007812    -0.014576    -0.618903  \n",
       "25%      -0.000400    -0.000835    -0.002899  \n",
       "50%       0.000030    -0.000089     0.001690  \n",
       "75%       0.000251     0.001924     0.017962  \n",
       "max       0.007583     0.014576     0.807237  "
      ]
     },
     "execution_count": 46,
     "metadata": {},
     "output_type": "execute_result"
    }
   ],
   "source": [
    "df_replace_null.describe()"
   ]
  },
  {
   "cell_type": "markdown",
   "metadata": {},
   "source": [
    "Accelerometer sensors measure the difference between any linear acceleration in the accelerometer’s reference frame and the earth's gravitational field vector. In the absence of linear acceleration, the accelerometer output is a measurement of the rotated gravitational field vector and can be used to determine the accelerometer pitch and roll orientation angles.\n",
    "\n",
    "Gyroscope sensor is a device that can measure and maintain the orientation and angular velocity of an object. These are more advanced than accelerometers. These can measure the tilt and lateral orientation of the object whereas accelerometer can only measure the linear motion.\n",
    "\n",
    "source: https://github.com/jrowberg/i2cdevlib/blob/master/Arduino/MPU6050/examples/MPU6050_DMP6/Processing/MPUTeapot/MPUTeapot.pde\n"
   ]
  },
  {
   "cell_type": "markdown",
   "metadata": {},
   "source": [
    "Since we will be using complementary filter i.e., combining accelerometer (x and y axes) and gyroscope (x and y axes) data to calculate roll and pitch, it is important to rectify any outliers. "
   ]
  },
  {
   "cell_type": "code",
   "execution_count": 47,
   "metadata": {},
   "outputs": [],
   "source": [
    "df1 = df_replace_null.copy()"
   ]
  },
  {
   "cell_type": "code",
   "execution_count": 48,
   "metadata": {},
   "outputs": [
    {
     "data": {
      "text/plain": [
       "-0.22071184902809973"
      ]
     },
     "execution_count": 48,
     "metadata": {},
     "output_type": "execute_result"
    }
   ],
   "source": [
    "df1['acceleration x'].skew()"
   ]
  },
  {
   "cell_type": "code",
   "execution_count": 49,
   "metadata": {},
   "outputs": [
    {
     "data": {
      "text/plain": [
       "-5.03067814010855"
      ]
     },
     "execution_count": 49,
     "metadata": {},
     "output_type": "execute_result"
    }
   ],
   "source": [
    "df1['acceleration y'].skew()"
   ]
  },
  {
   "cell_type": "code",
   "execution_count": 50,
   "metadata": {},
   "outputs": [
    {
     "data": {
      "text/plain": [
       "0.3122782459036659"
      ]
     },
     "execution_count": 50,
     "metadata": {},
     "output_type": "execute_result"
    }
   ],
   "source": [
    "df1['acceleration z'].skew()"
   ]
  },
  {
   "cell_type": "code",
   "execution_count": 51,
   "metadata": {},
   "outputs": [
    {
     "data": {
      "text/plain": [
       "-0.17836146895895988"
      ]
     },
     "execution_count": 51,
     "metadata": {},
     "output_type": "execute_result"
    }
   ],
   "source": [
    "df1['gyroscope x'].skew()"
   ]
  },
  {
   "cell_type": "code",
   "execution_count": 52,
   "metadata": {},
   "outputs": [
    {
     "data": {
      "text/plain": [
       "-0.07379346635270606"
      ]
     },
     "execution_count": 52,
     "metadata": {},
     "output_type": "execute_result"
    }
   ],
   "source": [
    "df1['gyroscope y'].skew()"
   ]
  },
  {
   "cell_type": "code",
   "execution_count": 53,
   "metadata": {},
   "outputs": [
    {
     "data": {
      "text/plain": [
       "1.0459017975953906"
      ]
     },
     "execution_count": 53,
     "metadata": {},
     "output_type": "execute_result"
    }
   ],
   "source": [
    "df1['gyroscope z'].skew()"
   ]
  },
  {
   "cell_type": "markdown",
   "metadata": {},
   "source": [
    "To identify the outliers, we will calculate both, the Inter Quartile Range as well as the Z-Score, as the IQR tells us about the spread of our data while the Z-Score points out the outliers."
   ]
  },
  {
   "cell_type": "code",
   "execution_count": 54,
   "metadata": {},
   "outputs": [
    {
     "data": {
      "text/plain": [
       "0.000433892822265625"
      ]
     },
     "execution_count": 54,
     "metadata": {},
     "output_type": "execute_result"
    }
   ],
   "source": [
    "IQR_accx = df1['acceleration x'].quantile(0.75)-df1['acceleration x'].quantile(0.25)\n",
    "IQR_accx"
   ]
  },
  {
   "cell_type": "code",
   "execution_count": 55,
   "metadata": {},
   "outputs": [],
   "source": [
    "upper_outlier_accx = df1['acceleration x'].quantile(0.75) + 1.5*IQR_accx\n",
    "lower_outlier_accx = df1['acceleration x'].quantile(0.25) - 1.5*IQR_accx"
   ]
  },
  {
   "cell_type": "code",
   "execution_count": 56,
   "metadata": {},
   "outputs": [
    {
     "data": {
      "text/plain": [
       "0.0012495697021484376"
      ]
     },
     "execution_count": 56,
     "metadata": {},
     "output_type": "execute_result"
    }
   ],
   "source": [
    "upper_outlier_accx"
   ]
  },
  {
   "cell_type": "code",
   "execution_count": 57,
   "metadata": {},
   "outputs": [
    {
     "data": {
      "text/plain": [
       "-0.0004860015869140626"
      ]
     },
     "execution_count": 57,
     "metadata": {},
     "output_type": "execute_result"
    }
   ],
   "source": [
    "lower_outlier_accx"
   ]
  },
  {
   "cell_type": "code",
   "execution_count": 58,
   "metadata": {},
   "outputs": [
    {
     "data": {
      "text/html": [
       "<div>\n",
       "<style scoped>\n",
       "    .dataframe tbody tr th:only-of-type {\n",
       "        vertical-align: middle;\n",
       "    }\n",
       "\n",
       "    .dataframe tbody tr th {\n",
       "        vertical-align: top;\n",
       "    }\n",
       "\n",
       "    .dataframe thead th {\n",
       "        text-align: right;\n",
       "    }\n",
       "</style>\n",
       "<table border=\"1\" class=\"dataframe\">\n",
       "  <thead>\n",
       "    <tr style=\"text-align: right;\">\n",
       "      <th></th>\n",
       "      <th>time</th>\n",
       "      <th>acceleration x</th>\n",
       "      <th>acceleration y</th>\n",
       "      <th>acceleration z</th>\n",
       "      <th>gyroscope x</th>\n",
       "      <th>gyroscope y</th>\n",
       "      <th>gyroscope z</th>\n",
       "    </tr>\n",
       "  </thead>\n",
       "  <tbody>\n",
       "  </tbody>\n",
       "</table>\n",
       "</div>"
      ],
      "text/plain": [
       "Empty DataFrame\n",
       "Columns: [time, acceleration x, acceleration y, acceleration z, gyroscope x, gyroscope y, gyroscope z]\n",
       "Index: []"
      ]
     },
     "execution_count": 58,
     "metadata": {},
     "output_type": "execute_result"
    }
   ],
   "source": [
    "outlier_val_accx = df1[(df1['acceleration x'] >= upper_outlier_accx) | (df1['acceleration x'] <= lower_outlier_accx)]\n",
    "outlier_val_accx"
   ]
  },
  {
   "cell_type": "code",
   "execution_count": 59,
   "metadata": {},
   "outputs": [
    {
     "data": {
      "text/plain": [
       "1.611328125e-05"
      ]
     },
     "execution_count": 59,
     "metadata": {},
     "output_type": "execute_result"
    }
   ],
   "source": [
    "IQR_accy = df1['acceleration y'].quantile(0.75)-df1['acceleration y'].quantile(0.25)\n",
    "IQR_accy"
   ]
  },
  {
   "cell_type": "code",
   "execution_count": 60,
   "metadata": {},
   "outputs": [],
   "source": [
    "upper_outlier_accy = df1['acceleration y'].quantile(0.75) + 1.5*IQR_accy\n",
    "lower_outlier_accy = df1['acceleration y'].quantile(0.25) - 1.5*IQR_accy"
   ]
  },
  {
   "cell_type": "code",
   "execution_count": 61,
   "metadata": {},
   "outputs": [
    {
     "data": {
      "text/plain": [
       "3.2647705078125e-05"
      ]
     },
     "execution_count": 61,
     "metadata": {},
     "output_type": "execute_result"
    }
   ],
   "source": [
    "upper_outlier_accy"
   ]
  },
  {
   "cell_type": "code",
   "execution_count": 62,
   "metadata": {},
   "outputs": [
    {
     "data": {
      "text/plain": [
       "-3.1805419921875e-05"
      ]
     },
     "execution_count": 62,
     "metadata": {},
     "output_type": "execute_result"
    }
   ],
   "source": [
    "lower_outlier_accy"
   ]
  },
  {
   "cell_type": "code",
   "execution_count": 63,
   "metadata": {},
   "outputs": [
    {
     "data": {
      "text/html": [
       "<div>\n",
       "<style scoped>\n",
       "    .dataframe tbody tr th:only-of-type {\n",
       "        vertical-align: middle;\n",
       "    }\n",
       "\n",
       "    .dataframe tbody tr th {\n",
       "        vertical-align: top;\n",
       "    }\n",
       "\n",
       "    .dataframe thead th {\n",
       "        text-align: right;\n",
       "    }\n",
       "</style>\n",
       "<table border=\"1\" class=\"dataframe\">\n",
       "  <thead>\n",
       "    <tr style=\"text-align: right;\">\n",
       "      <th></th>\n",
       "      <th>time</th>\n",
       "      <th>acceleration x</th>\n",
       "      <th>acceleration y</th>\n",
       "      <th>acceleration z</th>\n",
       "      <th>gyroscope x</th>\n",
       "      <th>gyroscope y</th>\n",
       "      <th>gyroscope z</th>\n",
       "    </tr>\n",
       "  </thead>\n",
       "  <tbody>\n",
       "    <tr>\n",
       "      <th>379</th>\n",
       "      <td>7.1285</td>\n",
       "      <td>0.000068</td>\n",
       "      <td>-0.000114</td>\n",
       "      <td>-0.000669</td>\n",
       "      <td>-0.000792</td>\n",
       "      <td>-0.000447</td>\n",
       "      <td>0.314667</td>\n",
       "    </tr>\n",
       "    <tr>\n",
       "      <th>380</th>\n",
       "      <td>7.1474</td>\n",
       "      <td>-0.000075</td>\n",
       "      <td>-0.000305</td>\n",
       "      <td>-0.000965</td>\n",
       "      <td>-0.000493</td>\n",
       "      <td>0.001214</td>\n",
       "      <td>0.002215</td>\n",
       "    </tr>\n",
       "    <tr>\n",
       "      <th>411</th>\n",
       "      <td>7.7660</td>\n",
       "      <td>0.000319</td>\n",
       "      <td>-0.000034</td>\n",
       "      <td>-0.000488</td>\n",
       "      <td>0.000918</td>\n",
       "      <td>0.005686</td>\n",
       "      <td>-0.325040</td>\n",
       "    </tr>\n",
       "    <tr>\n",
       "      <th>416</th>\n",
       "      <td>7.8622</td>\n",
       "      <td>0.000121</td>\n",
       "      <td>0.000061</td>\n",
       "      <td>-0.000782</td>\n",
       "      <td>0.000880</td>\n",
       "      <td>0.009743</td>\n",
       "      <td>0.124818</td>\n",
       "    </tr>\n",
       "    <tr>\n",
       "      <th>417</th>\n",
       "      <td>7.8817</td>\n",
       "      <td>0.000293</td>\n",
       "      <td>-0.000049</td>\n",
       "      <td>-0.000490</td>\n",
       "      <td>-0.000187</td>\n",
       "      <td>0.008922</td>\n",
       "      <td>0.105647</td>\n",
       "    </tr>\n",
       "    <tr>\n",
       "      <th>...</th>\n",
       "      <td>...</td>\n",
       "      <td>...</td>\n",
       "      <td>...</td>\n",
       "      <td>...</td>\n",
       "      <td>...</td>\n",
       "      <td>...</td>\n",
       "      <td>...</td>\n",
       "    </tr>\n",
       "    <tr>\n",
       "      <th>1217</th>\n",
       "      <td>22.9994</td>\n",
       "      <td>0.000494</td>\n",
       "      <td>0.000060</td>\n",
       "      <td>0.000308</td>\n",
       "      <td>-0.003687</td>\n",
       "      <td>-0.014576</td>\n",
       "      <td>-0.252491</td>\n",
       "    </tr>\n",
       "    <tr>\n",
       "      <th>1218</th>\n",
       "      <td>23.0186</td>\n",
       "      <td>0.000475</td>\n",
       "      <td>0.000039</td>\n",
       "      <td>0.000226</td>\n",
       "      <td>-0.002318</td>\n",
       "      <td>-0.014576</td>\n",
       "      <td>-0.275625</td>\n",
       "    </tr>\n",
       "    <tr>\n",
       "      <th>1221</th>\n",
       "      <td>23.0774</td>\n",
       "      <td>0.000475</td>\n",
       "      <td>0.000062</td>\n",
       "      <td>-0.000098</td>\n",
       "      <td>-0.000479</td>\n",
       "      <td>-0.014576</td>\n",
       "      <td>-0.464134</td>\n",
       "    </tr>\n",
       "    <tr>\n",
       "      <th>1222</th>\n",
       "      <td>23.0969</td>\n",
       "      <td>0.000457</td>\n",
       "      <td>0.000116</td>\n",
       "      <td>-0.000213</td>\n",
       "      <td>-0.002154</td>\n",
       "      <td>-0.014576</td>\n",
       "      <td>-0.542976</td>\n",
       "    </tr>\n",
       "    <tr>\n",
       "      <th>1223</th>\n",
       "      <td>23.1318</td>\n",
       "      <td>0.000400</td>\n",
       "      <td>0.000201</td>\n",
       "      <td>-0.000506</td>\n",
       "      <td>-0.007812</td>\n",
       "      <td>-0.014576</td>\n",
       "      <td>-0.618903</td>\n",
       "    </tr>\n",
       "  </tbody>\n",
       "</table>\n",
       "<p>200 rows × 7 columns</p>\n",
       "</div>"
      ],
      "text/plain": [
       "         time  acceleration x  acceleration y  acceleration z  gyroscope x  \\\n",
       "379    7.1285        0.000068       -0.000114       -0.000669    -0.000792   \n",
       "380    7.1474       -0.000075       -0.000305       -0.000965    -0.000493   \n",
       "411    7.7660        0.000319       -0.000034       -0.000488     0.000918   \n",
       "416    7.8622        0.000121        0.000061       -0.000782     0.000880   \n",
       "417    7.8817        0.000293       -0.000049       -0.000490    -0.000187   \n",
       "...       ...             ...             ...             ...          ...   \n",
       "1217  22.9994        0.000494        0.000060        0.000308    -0.003687   \n",
       "1218  23.0186        0.000475        0.000039        0.000226    -0.002318   \n",
       "1221  23.0774        0.000475        0.000062       -0.000098    -0.000479   \n",
       "1222  23.0969        0.000457        0.000116       -0.000213    -0.002154   \n",
       "1223  23.1318        0.000400        0.000201       -0.000506    -0.007812   \n",
       "\n",
       "      gyroscope y  gyroscope z  \n",
       "379     -0.000447     0.314667  \n",
       "380      0.001214     0.002215  \n",
       "411      0.005686    -0.325040  \n",
       "416      0.009743     0.124818  \n",
       "417      0.008922     0.105647  \n",
       "...           ...          ...  \n",
       "1217    -0.014576    -0.252491  \n",
       "1218    -0.014576    -0.275625  \n",
       "1221    -0.014576    -0.464134  \n",
       "1222    -0.014576    -0.542976  \n",
       "1223    -0.014576    -0.618903  \n",
       "\n",
       "[200 rows x 7 columns]"
      ]
     },
     "execution_count": 63,
     "metadata": {},
     "output_type": "execute_result"
    }
   ],
   "source": [
    "outlier_val_accy = df1[(df1['acceleration y'] >= upper_outlier_accy) | (df1['acceleration y'] <= lower_outlier_accy)]\n",
    "outlier_val_accy"
   ]
  },
  {
   "cell_type": "code",
   "execution_count": 64,
   "metadata": {},
   "outputs": [
    {
     "data": {
      "text/plain": [
       "0.0006703369140625001"
      ]
     },
     "execution_count": 64,
     "metadata": {},
     "output_type": "execute_result"
    }
   ],
   "source": [
    "IQR_accz = df1['acceleration z'].quantile(0.75)-df1['acceleration z'].quantile(0.25)\n",
    "IQR_accz"
   ]
  },
  {
   "cell_type": "code",
   "execution_count": 65,
   "metadata": {},
   "outputs": [],
   "source": [
    "upper_outlier_accz = df1['acceleration z'].quantile(0.75) + 1.5*IQR_accz\n",
    "lower_outlier_accz = df1['acceleration z'].quantile(0.25) - 1.5*IQR_accz"
   ]
  },
  {
   "cell_type": "code",
   "execution_count": 66,
   "metadata": {},
   "outputs": [
    {
     "data": {
      "text/plain": [
       "0.0010800659179687501"
      ]
     },
     "execution_count": 66,
     "metadata": {},
     "output_type": "execute_result"
    }
   ],
   "source": [
    "upper_outlier_accz"
   ]
  },
  {
   "cell_type": "code",
   "execution_count": 67,
   "metadata": {},
   "outputs": [
    {
     "data": {
      "text/plain": [
       "-0.0016012817382812503"
      ]
     },
     "execution_count": 67,
     "metadata": {},
     "output_type": "execute_result"
    }
   ],
   "source": [
    "lower_outlier_accz"
   ]
  },
  {
   "cell_type": "code",
   "execution_count": 68,
   "metadata": {},
   "outputs": [
    {
     "data": {
      "text/html": [
       "<div>\n",
       "<style scoped>\n",
       "    .dataframe tbody tr th:only-of-type {\n",
       "        vertical-align: middle;\n",
       "    }\n",
       "\n",
       "    .dataframe tbody tr th {\n",
       "        vertical-align: top;\n",
       "    }\n",
       "\n",
       "    .dataframe thead th {\n",
       "        text-align: right;\n",
       "    }\n",
       "</style>\n",
       "<table border=\"1\" class=\"dataframe\">\n",
       "  <thead>\n",
       "    <tr style=\"text-align: right;\">\n",
       "      <th></th>\n",
       "      <th>time</th>\n",
       "      <th>acceleration x</th>\n",
       "      <th>acceleration y</th>\n",
       "      <th>acceleration z</th>\n",
       "      <th>gyroscope x</th>\n",
       "      <th>gyroscope y</th>\n",
       "      <th>gyroscope z</th>\n",
       "    </tr>\n",
       "  </thead>\n",
       "  <tbody>\n",
       "  </tbody>\n",
       "</table>\n",
       "</div>"
      ],
      "text/plain": [
       "Empty DataFrame\n",
       "Columns: [time, acceleration x, acceleration y, acceleration z, gyroscope x, gyroscope y, gyroscope z]\n",
       "Index: []"
      ]
     },
     "execution_count": 68,
     "metadata": {},
     "output_type": "execute_result"
    }
   ],
   "source": [
    "outlier_val_accz = df1[(df1['acceleration z'] >= upper_outlier_accz) | (df1['acceleration z'] <= lower_outlier_accz)]\n",
    "outlier_val_accz"
   ]
  },
  {
   "cell_type": "code",
   "execution_count": 69,
   "metadata": {},
   "outputs": [
    {
     "data": {
      "text/plain": [
       "0.0006513358778625955"
      ]
     },
     "execution_count": 69,
     "metadata": {},
     "output_type": "execute_result"
    }
   ],
   "source": [
    "IQR_gyx = df1['gyroscope x'].quantile(0.75)-df1['gyroscope x'].quantile(0.25)\n",
    "IQR_gyx"
   ]
  },
  {
   "cell_type": "code",
   "execution_count": 70,
   "metadata": {},
   "outputs": [],
   "source": [
    "upper_outlier_gyx = df1['gyroscope x'].quantile(0.75) + 1.5*IQR_gyx\n",
    "lower_outlier_gyx = df1['gyroscope x'].quantile(0.25) - 1.5*IQR_gyx"
   ]
  },
  {
   "cell_type": "code",
   "execution_count": 71,
   "metadata": {},
   "outputs": [
    {
     "data": {
      "text/plain": [
       "0.001227958015267176"
      ]
     },
     "execution_count": 71,
     "metadata": {},
     "output_type": "execute_result"
    }
   ],
   "source": [
    "upper_outlier_gyx"
   ]
  },
  {
   "cell_type": "code",
   "execution_count": 72,
   "metadata": {},
   "outputs": [
    {
     "data": {
      "text/plain": [
       "-0.0013773854961832064"
      ]
     },
     "execution_count": 72,
     "metadata": {},
     "output_type": "execute_result"
    }
   ],
   "source": [
    "lower_outlier_gyx"
   ]
  },
  {
   "cell_type": "code",
   "execution_count": 73,
   "metadata": {},
   "outputs": [
    {
     "data": {
      "text/html": [
       "<div>\n",
       "<style scoped>\n",
       "    .dataframe tbody tr th:only-of-type {\n",
       "        vertical-align: middle;\n",
       "    }\n",
       "\n",
       "    .dataframe tbody tr th {\n",
       "        vertical-align: top;\n",
       "    }\n",
       "\n",
       "    .dataframe thead th {\n",
       "        text-align: right;\n",
       "    }\n",
       "</style>\n",
       "<table border=\"1\" class=\"dataframe\">\n",
       "  <thead>\n",
       "    <tr style=\"text-align: right;\">\n",
       "      <th></th>\n",
       "      <th>time</th>\n",
       "      <th>acceleration x</th>\n",
       "      <th>acceleration y</th>\n",
       "      <th>acceleration z</th>\n",
       "      <th>gyroscope x</th>\n",
       "      <th>gyroscope y</th>\n",
       "      <th>gyroscope z</th>\n",
       "    </tr>\n",
       "  </thead>\n",
       "  <tbody>\n",
       "    <tr>\n",
       "      <th>410</th>\n",
       "      <td>7.7468</td>\n",
       "      <td>0.000302</td>\n",
       "      <td>-0.000006</td>\n",
       "      <td>-0.000631</td>\n",
       "      <td>0.001430</td>\n",
       "      <td>0.005757</td>\n",
       "      <td>-0.263388</td>\n",
       "    </tr>\n",
       "    <tr>\n",
       "      <th>568</th>\n",
       "      <td>10.6968</td>\n",
       "      <td>0.000591</td>\n",
       "      <td>0.000008</td>\n",
       "      <td>-0.000022</td>\n",
       "      <td>0.001260</td>\n",
       "      <td>-0.006855</td>\n",
       "      <td>0.039799</td>\n",
       "    </tr>\n",
       "    <tr>\n",
       "      <th>569</th>\n",
       "      <td>10.7152</td>\n",
       "      <td>0.000627</td>\n",
       "      <td>-0.000009</td>\n",
       "      <td>0.000116</td>\n",
       "      <td>0.001353</td>\n",
       "      <td>-0.007124</td>\n",
       "      <td>0.038285</td>\n",
       "    </tr>\n",
       "    <tr>\n",
       "      <th>570</th>\n",
       "      <td>10.7329</td>\n",
       "      <td>0.000540</td>\n",
       "      <td>-0.000002</td>\n",
       "      <td>-0.000006</td>\n",
       "      <td>0.001423</td>\n",
       "      <td>-0.008506</td>\n",
       "      <td>0.070800</td>\n",
       "    </tr>\n",
       "    <tr>\n",
       "      <th>586</th>\n",
       "      <td>11.0342</td>\n",
       "      <td>0.000558</td>\n",
       "      <td>-0.000018</td>\n",
       "      <td>-0.000290</td>\n",
       "      <td>-0.001547</td>\n",
       "      <td>0.005771</td>\n",
       "      <td>0.079308</td>\n",
       "    </tr>\n",
       "    <tr>\n",
       "      <th>...</th>\n",
       "      <td>...</td>\n",
       "      <td>...</td>\n",
       "      <td>...</td>\n",
       "      <td>...</td>\n",
       "      <td>...</td>\n",
       "      <td>...</td>\n",
       "      <td>...</td>\n",
       "    </tr>\n",
       "    <tr>\n",
       "      <th>1216</th>\n",
       "      <td>22.9784</td>\n",
       "      <td>0.000488</td>\n",
       "      <td>0.000063</td>\n",
       "      <td>0.000250</td>\n",
       "      <td>-0.004556</td>\n",
       "      <td>-0.014178</td>\n",
       "      <td>-0.270847</td>\n",
       "    </tr>\n",
       "    <tr>\n",
       "      <th>1217</th>\n",
       "      <td>22.9994</td>\n",
       "      <td>0.000494</td>\n",
       "      <td>0.000060</td>\n",
       "      <td>0.000308</td>\n",
       "      <td>-0.003687</td>\n",
       "      <td>-0.014576</td>\n",
       "      <td>-0.252491</td>\n",
       "    </tr>\n",
       "    <tr>\n",
       "      <th>1218</th>\n",
       "      <td>23.0186</td>\n",
       "      <td>0.000475</td>\n",
       "      <td>0.000039</td>\n",
       "      <td>0.000226</td>\n",
       "      <td>-0.002318</td>\n",
       "      <td>-0.014576</td>\n",
       "      <td>-0.275625</td>\n",
       "    </tr>\n",
       "    <tr>\n",
       "      <th>1222</th>\n",
       "      <td>23.0969</td>\n",
       "      <td>0.000457</td>\n",
       "      <td>0.000116</td>\n",
       "      <td>-0.000213</td>\n",
       "      <td>-0.002154</td>\n",
       "      <td>-0.014576</td>\n",
       "      <td>-0.542976</td>\n",
       "    </tr>\n",
       "    <tr>\n",
       "      <th>1223</th>\n",
       "      <td>23.1318</td>\n",
       "      <td>0.000400</td>\n",
       "      <td>0.000201</td>\n",
       "      <td>-0.000506</td>\n",
       "      <td>-0.007812</td>\n",
       "      <td>-0.014576</td>\n",
       "      <td>-0.618903</td>\n",
       "    </tr>\n",
       "  </tbody>\n",
       "</table>\n",
       "<p>397 rows × 7 columns</p>\n",
       "</div>"
      ],
      "text/plain": [
       "         time  acceleration x  acceleration y  acceleration z  gyroscope x  \\\n",
       "410    7.7468        0.000302       -0.000006       -0.000631     0.001430   \n",
       "568   10.6968        0.000591        0.000008       -0.000022     0.001260   \n",
       "569   10.7152        0.000627       -0.000009        0.000116     0.001353   \n",
       "570   10.7329        0.000540       -0.000002       -0.000006     0.001423   \n",
       "586   11.0342        0.000558       -0.000018       -0.000290    -0.001547   \n",
       "...       ...             ...             ...             ...          ...   \n",
       "1216  22.9784        0.000488        0.000063        0.000250    -0.004556   \n",
       "1217  22.9994        0.000494        0.000060        0.000308    -0.003687   \n",
       "1218  23.0186        0.000475        0.000039        0.000226    -0.002318   \n",
       "1222  23.0969        0.000457        0.000116       -0.000213    -0.002154   \n",
       "1223  23.1318        0.000400        0.000201       -0.000506    -0.007812   \n",
       "\n",
       "      gyroscope y  gyroscope z  \n",
       "410      0.005757    -0.263388  \n",
       "568     -0.006855     0.039799  \n",
       "569     -0.007124     0.038285  \n",
       "570     -0.008506     0.070800  \n",
       "586      0.005771     0.079308  \n",
       "...           ...          ...  \n",
       "1216    -0.014178    -0.270847  \n",
       "1217    -0.014576    -0.252491  \n",
       "1218    -0.014576    -0.275625  \n",
       "1222    -0.014576    -0.542976  \n",
       "1223    -0.014576    -0.618903  \n",
       "\n",
       "[397 rows x 7 columns]"
      ]
     },
     "execution_count": 73,
     "metadata": {},
     "output_type": "execute_result"
    }
   ],
   "source": [
    "outlier_val_gyx = df1[(df1['gyroscope x'] >= upper_outlier_gyx) | (df1['gyroscope x'] <= lower_outlier_gyx)]\n",
    "outlier_val_gyx"
   ]
  },
  {
   "cell_type": "code",
   "execution_count": 74,
   "metadata": {},
   "outputs": [
    {
     "data": {
      "text/plain": [
       "0.0027585877862595417"
      ]
     },
     "execution_count": 74,
     "metadata": {},
     "output_type": "execute_result"
    }
   ],
   "source": [
    "IQR_gyy = df1['gyroscope y'].quantile(0.75)-df1['gyroscope y'].quantile(0.25)\n",
    "IQR_gyy"
   ]
  },
  {
   "cell_type": "code",
   "execution_count": 75,
   "metadata": {},
   "outputs": [],
   "source": [
    "upper_outlier_gyy = df1['gyroscope y'].quantile(0.75) + 1.5*IQR_gyy\n",
    "lower_outlier_gyy = df1['gyroscope y'].quantile(0.25) - 1.5*IQR_gyy"
   ]
  },
  {
   "cell_type": "code",
   "execution_count": 76,
   "metadata": {},
   "outputs": [
    {
     "data": {
      "text/plain": [
       "0.006061736641221374"
      ]
     },
     "execution_count": 76,
     "metadata": {},
     "output_type": "execute_result"
    }
   ],
   "source": [
    "upper_outlier_gyy"
   ]
  },
  {
   "cell_type": "code",
   "execution_count": 77,
   "metadata": {},
   "outputs": [
    {
     "data": {
      "text/plain": [
       "-0.004972614503816793"
      ]
     },
     "execution_count": 77,
     "metadata": {},
     "output_type": "execute_result"
    }
   ],
   "source": [
    "lower_outlier_gyy"
   ]
  },
  {
   "cell_type": "code",
   "execution_count": 78,
   "metadata": {},
   "outputs": [
    {
     "data": {
      "text/html": [
       "<div>\n",
       "<style scoped>\n",
       "    .dataframe tbody tr th:only-of-type {\n",
       "        vertical-align: middle;\n",
       "    }\n",
       "\n",
       "    .dataframe tbody tr th {\n",
       "        vertical-align: top;\n",
       "    }\n",
       "\n",
       "    .dataframe thead th {\n",
       "        text-align: right;\n",
       "    }\n",
       "</style>\n",
       "<table border=\"1\" class=\"dataframe\">\n",
       "  <thead>\n",
       "    <tr style=\"text-align: right;\">\n",
       "      <th></th>\n",
       "      <th>time</th>\n",
       "      <th>acceleration x</th>\n",
       "      <th>acceleration y</th>\n",
       "      <th>acceleration z</th>\n",
       "      <th>gyroscope x</th>\n",
       "      <th>gyroscope y</th>\n",
       "      <th>gyroscope z</th>\n",
       "    </tr>\n",
       "  </thead>\n",
       "  <tbody>\n",
       "    <tr>\n",
       "      <th>413</th>\n",
       "      <td>7.8071</td>\n",
       "      <td>0.000259</td>\n",
       "      <td>0.000015</td>\n",
       "      <td>-0.000965</td>\n",
       "      <td>0.000782</td>\n",
       "      <td>0.006090</td>\n",
       "      <td>-0.138395</td>\n",
       "    </tr>\n",
       "    <tr>\n",
       "      <th>414</th>\n",
       "      <td>7.8249</td>\n",
       "      <td>0.000381</td>\n",
       "      <td>-0.000019</td>\n",
       "      <td>-0.000513</td>\n",
       "      <td>0.000459</td>\n",
       "      <td>0.006470</td>\n",
       "      <td>-0.229824</td>\n",
       "    </tr>\n",
       "    <tr>\n",
       "      <th>415</th>\n",
       "      <td>7.8435</td>\n",
       "      <td>0.000288</td>\n",
       "      <td>0.000006</td>\n",
       "      <td>-0.000568</td>\n",
       "      <td>0.001171</td>\n",
       "      <td>0.007292</td>\n",
       "      <td>-0.153196</td>\n",
       "    </tr>\n",
       "    <tr>\n",
       "      <th>416</th>\n",
       "      <td>7.8622</td>\n",
       "      <td>0.000121</td>\n",
       "      <td>0.000061</td>\n",
       "      <td>-0.000782</td>\n",
       "      <td>0.000880</td>\n",
       "      <td>0.009743</td>\n",
       "      <td>0.124818</td>\n",
       "    </tr>\n",
       "    <tr>\n",
       "      <th>417</th>\n",
       "      <td>7.8817</td>\n",
       "      <td>0.000293</td>\n",
       "      <td>-0.000049</td>\n",
       "      <td>-0.000490</td>\n",
       "      <td>-0.000187</td>\n",
       "      <td>0.008922</td>\n",
       "      <td>0.105647</td>\n",
       "    </tr>\n",
       "    <tr>\n",
       "      <th>...</th>\n",
       "      <td>...</td>\n",
       "      <td>...</td>\n",
       "      <td>...</td>\n",
       "      <td>...</td>\n",
       "      <td>...</td>\n",
       "      <td>...</td>\n",
       "      <td>...</td>\n",
       "    </tr>\n",
       "    <tr>\n",
       "      <th>1219</th>\n",
       "      <td>23.0377</td>\n",
       "      <td>0.000449</td>\n",
       "      <td>-0.000005</td>\n",
       "      <td>0.000216</td>\n",
       "      <td>-0.000873</td>\n",
       "      <td>-0.014576</td>\n",
       "      <td>-0.340773</td>\n",
       "    </tr>\n",
       "    <tr>\n",
       "      <th>1220</th>\n",
       "      <td>23.0583</td>\n",
       "      <td>0.000456</td>\n",
       "      <td>0.000027</td>\n",
       "      <td>0.000060</td>\n",
       "      <td>0.000020</td>\n",
       "      <td>-0.014576</td>\n",
       "      <td>-0.414486</td>\n",
       "    </tr>\n",
       "    <tr>\n",
       "      <th>1221</th>\n",
       "      <td>23.0774</td>\n",
       "      <td>0.000475</td>\n",
       "      <td>0.000062</td>\n",
       "      <td>-0.000098</td>\n",
       "      <td>-0.000479</td>\n",
       "      <td>-0.014576</td>\n",
       "      <td>-0.464134</td>\n",
       "    </tr>\n",
       "    <tr>\n",
       "      <th>1222</th>\n",
       "      <td>23.0969</td>\n",
       "      <td>0.000457</td>\n",
       "      <td>0.000116</td>\n",
       "      <td>-0.000213</td>\n",
       "      <td>-0.002154</td>\n",
       "      <td>-0.014576</td>\n",
       "      <td>-0.542976</td>\n",
       "    </tr>\n",
       "    <tr>\n",
       "      <th>1223</th>\n",
       "      <td>23.1318</td>\n",
       "      <td>0.000400</td>\n",
       "      <td>0.000201</td>\n",
       "      <td>-0.000506</td>\n",
       "      <td>-0.007812</td>\n",
       "      <td>-0.014576</td>\n",
       "      <td>-0.618903</td>\n",
       "    </tr>\n",
       "  </tbody>\n",
       "</table>\n",
       "<p>407 rows × 7 columns</p>\n",
       "</div>"
      ],
      "text/plain": [
       "         time  acceleration x  acceleration y  acceleration z  gyroscope x  \\\n",
       "413    7.8071        0.000259        0.000015       -0.000965     0.000782   \n",
       "414    7.8249        0.000381       -0.000019       -0.000513     0.000459   \n",
       "415    7.8435        0.000288        0.000006       -0.000568     0.001171   \n",
       "416    7.8622        0.000121        0.000061       -0.000782     0.000880   \n",
       "417    7.8817        0.000293       -0.000049       -0.000490    -0.000187   \n",
       "...       ...             ...             ...             ...          ...   \n",
       "1219  23.0377        0.000449       -0.000005        0.000216    -0.000873   \n",
       "1220  23.0583        0.000456        0.000027        0.000060     0.000020   \n",
       "1221  23.0774        0.000475        0.000062       -0.000098    -0.000479   \n",
       "1222  23.0969        0.000457        0.000116       -0.000213    -0.002154   \n",
       "1223  23.1318        0.000400        0.000201       -0.000506    -0.007812   \n",
       "\n",
       "      gyroscope y  gyroscope z  \n",
       "413      0.006090    -0.138395  \n",
       "414      0.006470    -0.229824  \n",
       "415      0.007292    -0.153196  \n",
       "416      0.009743     0.124818  \n",
       "417      0.008922     0.105647  \n",
       "...           ...          ...  \n",
       "1219    -0.014576    -0.340773  \n",
       "1220    -0.014576    -0.414486  \n",
       "1221    -0.014576    -0.464134  \n",
       "1222    -0.014576    -0.542976  \n",
       "1223    -0.014576    -0.618903  \n",
       "\n",
       "[407 rows x 7 columns]"
      ]
     },
     "execution_count": 78,
     "metadata": {},
     "output_type": "execute_result"
    }
   ],
   "source": [
    "outlier_val_gyy = df1[(df1['gyroscope y'] >= upper_outlier_gyy) | (df1['gyroscope y'] <= lower_outlier_gyy)]\n",
    "outlier_val_gyy"
   ]
  },
  {
   "cell_type": "code",
   "execution_count": 79,
   "metadata": {},
   "outputs": [
    {
     "data": {
      "text/plain": [
       "708     0.001138\n",
       "738     0.001197\n",
       "901     0.001197\n",
       "1103    0.001126\n",
       "Name: acceleration x, dtype: float64"
      ]
     },
     "execution_count": 79,
     "metadata": {},
     "output_type": "execute_result"
    }
   ],
   "source": [
    "threshold = 3\n",
    "zscore_accx = np.abs(stats.zscore(df1['acceleration x']))\n",
    "df1['acceleration x'].iloc[zscore_accx > threshold]"
   ]
  },
  {
   "cell_type": "code",
   "execution_count": 80,
   "metadata": {},
   "outputs": [
    {
     "data": {
      "text/plain": [
       "380    -0.000305\n",
       "683     0.000469\n",
       "708    -0.000357\n",
       "738    -0.000581\n",
       "757    -0.000148\n",
       "775    -0.000800\n",
       "829     0.000363\n",
       "886     0.000210\n",
       "1063   -0.000160\n",
       "1201   -0.000292\n",
       "1203    0.000162\n",
       "1223    0.000201\n",
       "Name: acceleration y, dtype: float64"
      ]
     },
     "execution_count": 80,
     "metadata": {},
     "output_type": "execute_result"
    }
   ],
   "source": [
    "zscore_accy = np.abs(stats.zscore(df1['acceleration y']))\n",
    "df1['acceleration y'].iloc[zscore_accy > threshold]"
   ]
  },
  {
   "cell_type": "code",
   "execution_count": 81,
   "metadata": {},
   "outputs": [
    {
     "data": {
      "text/plain": [
       "1003    0.00104\n",
       "Name: acceleration z, dtype: float64"
      ]
     },
     "execution_count": 81,
     "metadata": {},
     "output_type": "execute_result"
    }
   ],
   "source": [
    "zscore_accz = np.abs(stats.zscore(df1['acceleration z']))\n",
    "df1['acceleration z'].iloc[zscore_accz > threshold]"
   ]
  },
  {
   "cell_type": "code",
   "execution_count": 82,
   "metadata": {},
   "outputs": [
    {
     "data": {
      "text/plain": [
       "694    -0.006005\n",
       "695    -0.006769\n",
       "696    -0.006758\n",
       "697    -0.005827\n",
       "1197   -0.005991\n",
       "1198   -0.006421\n",
       "1199   -0.006406\n",
       "1200   -0.006711\n",
       "1206    0.006329\n",
       "1207    0.007583\n",
       "1208    0.007331\n",
       "1209    0.006642\n",
       "1210    0.005579\n",
       "1223   -0.007812\n",
       "Name: gyroscope x, dtype: float64"
      ]
     },
     "execution_count": 82,
     "metadata": {},
     "output_type": "execute_result"
    }
   ],
   "source": [
    "zscore_gyx = np.abs(stats.zscore(df1['gyroscope x']))\n",
    "df1['gyroscope x'].iloc[zscore_gyx > threshold]"
   ]
  },
  {
   "cell_type": "code",
   "execution_count": 83,
   "metadata": {},
   "outputs": [
    {
     "data": {
      "text/plain": [
       "Series([], Name: gyroscope y, dtype: float64)"
      ]
     },
     "execution_count": 83,
     "metadata": {},
     "output_type": "execute_result"
    }
   ],
   "source": [
    "zscore_gyy = np.abs(stats.zscore(df1['gyroscope y']))\n",
    "df1['gyroscope y'].iloc[zscore_gyy > threshold]"
   ]
  },
  {
   "cell_type": "code",
   "execution_count": 84,
   "metadata": {},
   "outputs": [
    {
     "data": {
      "text/plain": [
       "411    -0.325040\n",
       "1102   -0.322009\n",
       "1167    0.330400\n",
       "1168    0.351320\n",
       "1169    0.318630\n",
       "1170    0.353301\n",
       "1171    0.412214\n",
       "1172    0.393392\n",
       "1173    0.370608\n",
       "1174    0.346716\n",
       "1179   -0.312278\n",
       "1180   -0.365189\n",
       "1181   -0.405396\n",
       "1182   -0.308373\n",
       "1194   -0.323874\n",
       "1200    0.788415\n",
       "1201    0.776062\n",
       "1202    0.640522\n",
       "1203    0.807237\n",
       "1204    0.692267\n",
       "1205    0.333780\n",
       "1214   -0.333489\n",
       "1215   -0.315075\n",
       "1219   -0.340773\n",
       "1220   -0.414486\n",
       "1221   -0.464134\n",
       "1222   -0.542976\n",
       "1223   -0.618903\n",
       "Name: gyroscope z, dtype: float64"
      ]
     },
     "execution_count": 84,
     "metadata": {},
     "output_type": "execute_result"
    }
   ],
   "source": [
    "zscore_gyz = np.abs(stats.zscore(df1['gyroscope z']))\n",
    "df1['gyroscope z'].iloc[zscore_gyz > threshold]"
   ]
  },
  {
   "cell_type": "markdown",
   "metadata": {},
   "source": [
    "As the outliers amount to a total of 4.8% of our data, rather than removing them, we'll cap them, i.e., change their values to the extreme quantiles."
   ]
  },
  {
   "cell_type": "code",
   "execution_count": 85,
   "metadata": {},
   "outputs": [],
   "source": [
    "df_filter = df1.copy()"
   ]
  },
  {
   "cell_type": "code",
   "execution_count": 86,
   "metadata": {},
   "outputs": [],
   "source": [
    "df_filter['Z-Score accx'] = pd.Series(zscore_accx)\n",
    "df_filter['Z-Score accy'] = pd.Series(zscore_accy)\n",
    "df_filter['Z-Score accz'] = pd.Series(zscore_accz)\n",
    "df_filter['Z-Score gyx'] = pd.Series(zscore_gyx)\n",
    "df_filter['Z-Score gyy'] = pd.Series(zscore_gyy)\n",
    "df_filter['Z-Score gyz'] = pd.Series(zscore_gyz)"
   ]
  },
  {
   "cell_type": "code",
   "execution_count": 87,
   "metadata": {},
   "outputs": [],
   "source": [
    "accx_high = df_filter['acceleration x'].quantile(0.95)\n",
    "accx_low = df_filter['acceleration x'].quantile(0.05)"
   ]
  },
  {
   "cell_type": "code",
   "execution_count": 88,
   "metadata": {},
   "outputs": [],
   "source": [
    "accy_high = df_filter['acceleration y'].quantile(0.95)\n",
    "accy_low = df_filter['acceleration y'].quantile(0.05)"
   ]
  },
  {
   "cell_type": "code",
   "execution_count": 89,
   "metadata": {},
   "outputs": [],
   "source": [
    "accz_high = df_filter['acceleration z'].quantile(0.95)\n",
    "accz_low = df_filter['acceleration z'].quantile(0.05)"
   ]
  },
  {
   "cell_type": "code",
   "execution_count": 90,
   "metadata": {},
   "outputs": [],
   "source": [
    "gyx_high = df_filter['gyroscope x'].quantile(0.95)\n",
    "gyx_low = df_filter['gyroscope x'].quantile(0.05)"
   ]
  },
  {
   "cell_type": "code",
   "execution_count": 91,
   "metadata": {},
   "outputs": [],
   "source": [
    "gyy_high = df_filter['gyroscope y'].quantile(0.95)\n",
    "gyy_low = df_filter['gyroscope y'].quantile(0.05)"
   ]
  },
  {
   "cell_type": "code",
   "execution_count": 92,
   "metadata": {},
   "outputs": [],
   "source": [
    "gyz_high = df_filter['gyroscope z'].quantile(0.95)\n",
    "gyz_low = df_filter['gyroscope z'].quantile(0.05)"
   ]
  },
  {
   "cell_type": "code",
   "execution_count": null,
   "metadata": {},
   "outputs": [],
   "source": []
  },
  {
   "cell_type": "code",
   "execution_count": 93,
   "metadata": {},
   "outputs": [
    {
     "data": {
      "text/plain": [
       "Int64Index([708, 738, 901, 1103], dtype='int64')"
      ]
     },
     "execution_count": 93,
     "metadata": {},
     "output_type": "execute_result"
    }
   ],
   "source": [
    "df_filter[df_filter['Z-Score accx'] > threshold].index"
   ]
  },
  {
   "cell_type": "code",
   "execution_count": 94,
   "metadata": {},
   "outputs": [
    {
     "name": "stdout",
     "output_type": "stream",
     "text": [
      "0.001137628173828125\n",
      "0.001197064208984375\n",
      "0.001197064208984375\n",
      "0.001126080322265625\n"
     ]
    }
   ],
   "source": [
    "for i in df_filter[df_filter['Z-Score accx'] > threshold].index:\n",
    "    print(df_filter.at[i, 'acceleration x'])"
   ]
  },
  {
   "cell_type": "code",
   "execution_count": 95,
   "metadata": {},
   "outputs": [],
   "source": [
    "for i in df_filter[df_filter['Z-Score accx'] > threshold].index:\n",
    "    if (df_filter.at[i, 'acceleration x']) > 0:\n",
    "        df_filter.at[i, 'acceleration x'] = accx_high\n",
    "    else:\n",
    "        df_filter.at[i, 'acceleration x'] = accx_low"
   ]
  },
  {
   "cell_type": "code",
   "execution_count": 96,
   "metadata": {},
   "outputs": [
    {
     "name": "stdout",
     "output_type": "stream",
     "text": [
      "0.0006540048217773436\n",
      "0.0006540048217773436\n",
      "0.0006540048217773436\n",
      "0.0006540048217773436\n"
     ]
    }
   ],
   "source": [
    "for i in df_filter[df_filter['Z-Score accx'] > threshold].index:\n",
    "    print(df_filter.at[i, 'acceleration x'])"
   ]
  },
  {
   "cell_type": "code",
   "execution_count": null,
   "metadata": {},
   "outputs": [],
   "source": []
  },
  {
   "cell_type": "code",
   "execution_count": 97,
   "metadata": {},
   "outputs": [
    {
     "data": {
      "text/plain": [
       "Int64Index([380, 683, 708, 738, 757, 775, 829, 886, 1063, 1201, 1203, 1223], dtype='int64')"
      ]
     },
     "execution_count": 97,
     "metadata": {},
     "output_type": "execute_result"
    }
   ],
   "source": [
    "df_filter[df_filter['Z-Score accy'] > threshold].index"
   ]
  },
  {
   "cell_type": "code",
   "execution_count": 98,
   "metadata": {},
   "outputs": [
    {
     "name": "stdout",
     "output_type": "stream",
     "text": [
      "-0.000304827880859375\n",
      "0.00046937255859375\n",
      "-0.00035670166015625\n",
      "-0.000581158447265625\n",
      "-0.000148321533203125\n",
      "-0.000800067138671875\n",
      "0.00036298828125\n",
      "0.000209991455078125\n",
      "-0.000160302734375\n",
      "-0.0002918212890625\n",
      "0.00016220703125\n",
      "0.00020107421875\n"
     ]
    }
   ],
   "source": [
    "for i in df_filter[df_filter['Z-Score accy'] > threshold].index:\n",
    "    print(df_filter.at[i, 'acceleration y'])"
   ]
  },
  {
   "cell_type": "code",
   "execution_count": 99,
   "metadata": {},
   "outputs": [],
   "source": [
    "for i in df_filter[df_filter['Z-Score accy'] > threshold].index:\n",
    "    if (df_filter.at[i, 'acceleration y']) > 0:\n",
    "        df_filter.at[i, 'acceleration y'] = accy_high\n",
    "    else:\n",
    "        df_filter.at[i, 'acceleration y'] = accy_low"
   ]
  },
  {
   "cell_type": "code",
   "execution_count": 100,
   "metadata": {},
   "outputs": [
    {
     "name": "stdout",
     "output_type": "stream",
     "text": [
      "-4.5717773437499996e-05\n",
      "4.817993164062497e-05\n",
      "-4.5717773437499996e-05\n",
      "-4.5717773437499996e-05\n",
      "-4.5717773437499996e-05\n",
      "-4.5717773437499996e-05\n",
      "4.817993164062497e-05\n",
      "4.817993164062497e-05\n",
      "-4.5717773437499996e-05\n",
      "-4.5717773437499996e-05\n",
      "4.817993164062497e-05\n",
      "4.817993164062497e-05\n"
     ]
    }
   ],
   "source": [
    "for i in df_filter[df_filter['Z-Score accy'] > threshold].index:\n",
    "    print(df_filter.at[i, 'acceleration y'])"
   ]
  },
  {
   "cell_type": "code",
   "execution_count": null,
   "metadata": {},
   "outputs": [],
   "source": []
  },
  {
   "cell_type": "code",
   "execution_count": 101,
   "metadata": {},
   "outputs": [
    {
     "data": {
      "text/plain": [
       "Int64Index([1003], dtype='int64')"
      ]
     },
     "execution_count": 101,
     "metadata": {},
     "output_type": "execute_result"
    }
   ],
   "source": [
    "df_filter[df_filter['Z-Score accz'] > threshold].index"
   ]
  },
  {
   "cell_type": "code",
   "execution_count": 102,
   "metadata": {},
   "outputs": [
    {
     "name": "stdout",
     "output_type": "stream",
     "text": [
      "0.001040447998046875\n"
     ]
    }
   ],
   "source": [
    "for i in df_filter[df_filter['Z-Score accz'] > threshold].index:\n",
    "    print(df_filter.at[i, 'acceleration z'])"
   ]
  },
  {
   "cell_type": "code",
   "execution_count": 103,
   "metadata": {},
   "outputs": [],
   "source": [
    "for i in df_filter[df_filter['Z-Score accz'] > threshold].index:\n",
    "    if (df_filter.at[i, 'acceleration z']) > 0:\n",
    "        df_filter.at[i, 'acceleration z'] = accz_high\n",
    "    else:\n",
    "        df_filter.at[i, 'acceleration z'] = accz_low"
   ]
  },
  {
   "cell_type": "code",
   "execution_count": 104,
   "metadata": {},
   "outputs": [
    {
     "name": "stdout",
     "output_type": "stream",
     "text": [
      "0.00040591522216796856\n"
     ]
    }
   ],
   "source": [
    "for i in df_filter[df_filter['Z-Score accz'] > threshold].index:\n",
    "    print(df_filter.at[i, 'acceleration z'])"
   ]
  },
  {
   "cell_type": "code",
   "execution_count": null,
   "metadata": {},
   "outputs": [],
   "source": []
  },
  {
   "cell_type": "code",
   "execution_count": 105,
   "metadata": {},
   "outputs": [
    {
     "data": {
      "text/plain": [
       "Int64Index([694, 695, 696, 697, 1197, 1198, 1199, 1200, 1206, 1207, 1208, 1209,\n",
       "            1210, 1223],\n",
       "           dtype='int64')"
      ]
     },
     "execution_count": 105,
     "metadata": {},
     "output_type": "execute_result"
    }
   ],
   "source": [
    "df_filter[df_filter['Z-Score gyx'] > threshold].index"
   ]
  },
  {
   "cell_type": "code",
   "execution_count": 106,
   "metadata": {},
   "outputs": [
    {
     "name": "stdout",
     "output_type": "stream",
     "text": [
      "-0.006005343511450381\n",
      "-0.0067694656488549625\n",
      "-0.0067580152671755725\n",
      "-0.005827480916030534\n",
      "-0.005990839694656489\n",
      "-0.006421374045801526\n",
      "-0.006406106870229007\n",
      "-0.006710687022900764\n",
      "0.006329007633587786\n",
      "0.007583206106870228\n",
      "0.007331297709923665\n",
      "0.006641984732824427\n",
      "0.005578625954198473\n",
      "-0.007812213740458016\n"
     ]
    }
   ],
   "source": [
    "for i in df_filter[df_filter['Z-Score gyx'] > threshold].index:\n",
    "    print(df_filter.at[i, 'gyroscope x'])"
   ]
  },
  {
   "cell_type": "code",
   "execution_count": 107,
   "metadata": {},
   "outputs": [],
   "source": [
    "for i in df_filter[df_filter['Z-Score gyx'] > threshold].index:\n",
    "    if (df_filter.at[i, 'gyroscope x']) > 0:\n",
    "        df_filter.at[i, 'gyroscope x'] = gyx_high\n",
    "    else:\n",
    "        df_filter.at[i, 'gyroscope x'] = gyx_low"
   ]
  },
  {
   "cell_type": "code",
   "execution_count": 108,
   "metadata": {},
   "outputs": [
    {
     "name": "stdout",
     "output_type": "stream",
     "text": [
      "-0.0032629007633587785\n",
      "-0.0032629007633587785\n",
      "-0.0032629007633587785\n",
      "-0.0032629007633587785\n",
      "-0.0032629007633587785\n",
      "-0.0032629007633587785\n",
      "-0.0032629007633587785\n",
      "-0.0032629007633587785\n",
      "0.0029918702290076316\n",
      "0.0029918702290076316\n",
      "0.0029918702290076316\n",
      "0.0029918702290076316\n",
      "0.0029918702290076316\n",
      "-0.0032629007633587785\n"
     ]
    }
   ],
   "source": [
    "for i in df_filter[df_filter['Z-Score gyx'] > threshold].index:\n",
    "    print(df_filter.at[i, 'gyroscope x'])"
   ]
  },
  {
   "cell_type": "code",
   "execution_count": null,
   "metadata": {},
   "outputs": [],
   "source": []
  },
  {
   "cell_type": "code",
   "execution_count": 109,
   "metadata": {},
   "outputs": [
    {
     "data": {
      "text/plain": [
       "Int64Index([], dtype='int64')"
      ]
     },
     "execution_count": 109,
     "metadata": {},
     "output_type": "execute_result"
    }
   ],
   "source": [
    "df_filter[df_filter['Z-Score gyy'] > threshold].index"
   ]
  },
  {
   "cell_type": "code",
   "execution_count": 110,
   "metadata": {},
   "outputs": [],
   "source": [
    "for i in df_filter[df_filter['Z-Score gyy'] > threshold].index:\n",
    "    print(df_filter.at[i, 'gyroscope y'])"
   ]
  },
  {
   "cell_type": "code",
   "execution_count": 111,
   "metadata": {},
   "outputs": [],
   "source": [
    "for i in df_filter[df_filter['Z-Score gyy'] > threshold].index:\n",
    "    if (df_filter.at[i, 'gyroscope y']) > 0:\n",
    "        df_filter.at[i, 'gyroscope y'] = gyy_high\n",
    "    else:\n",
    "        df_filter.at[i, 'gyroscope y'] = gyy_low"
   ]
  },
  {
   "cell_type": "code",
   "execution_count": 112,
   "metadata": {},
   "outputs": [],
   "source": [
    "for i in df_filter[df_filter['Z-Score gyy'] > threshold].index:\n",
    "    print(df_filter.at[i, 'gyroscope y'])"
   ]
  },
  {
   "cell_type": "code",
   "execution_count": null,
   "metadata": {},
   "outputs": [],
   "source": []
  },
  {
   "cell_type": "code",
   "execution_count": 113,
   "metadata": {},
   "outputs": [
    {
     "data": {
      "text/plain": [
       "Int64Index([ 411, 1102, 1167, 1168, 1169, 1170, 1171, 1172, 1173, 1174, 1179,\n",
       "            1180, 1181, 1182, 1194, 1200, 1201, 1202, 1203, 1204, 1205, 1214,\n",
       "            1215, 1219, 1220, 1221, 1222, 1223],\n",
       "           dtype='int64')"
      ]
     },
     "execution_count": 113,
     "metadata": {},
     "output_type": "execute_result"
    }
   ],
   "source": [
    "df_filter[df_filter['Z-Score gyz'] > threshold].index"
   ]
  },
  {
   "cell_type": "code",
   "execution_count": 114,
   "metadata": {},
   "outputs": [
    {
     "name": "stdout",
     "output_type": "stream",
     "text": [
      "-0.3250396946564885\n",
      "-0.3220091603053435\n",
      "0.3304\n",
      "0.3513198473282443\n",
      "0.3186297709923664\n",
      "0.35330076335877864\n",
      "0.4122137404580153\n",
      "0.3933923664122137\n",
      "0.37060763358778626\n",
      "0.3467160305343512\n",
      "-0.31227786259541984\n",
      "-0.3651885496183206\n",
      "-0.4053961832061069\n",
      "-0.3083732824427481\n",
      "-0.32387404580152673\n",
      "0.7884152671755725\n",
      "0.7760618320610687\n",
      "0.6405221374045802\n",
      "0.8072374045801526\n",
      "0.692267175572519\n",
      "0.33378015267175576\n",
      "-0.3334885496183206\n",
      "-0.31507480916030534\n",
      "-0.34077251908396944\n",
      "-0.4144862595419847\n",
      "-0.4641335877862595\n",
      "-0.542975572519084\n",
      "-0.6189030534351145\n"
     ]
    }
   ],
   "source": [
    "for i in df_filter[df_filter['Z-Score gyz'] > threshold].index:\n",
    "    print(df_filter.at[i, 'gyroscope z'])"
   ]
  },
  {
   "cell_type": "code",
   "execution_count": 115,
   "metadata": {},
   "outputs": [],
   "source": [
    "for i in df_filter[df_filter['Z-Score gyz'] > threshold].index:\n",
    "    if (df_filter.at[i, 'gyroscope z']) > 0:\n",
    "        df_filter.at[i, 'gyroscope z'] = gyz_high\n",
    "    else:\n",
    "        df_filter.at[i, 'gyroscope z'] = gyz_low"
   ]
  },
  {
   "cell_type": "code",
   "execution_count": 116,
   "metadata": {},
   "outputs": [
    {
     "name": "stdout",
     "output_type": "stream",
     "text": [
      "-0.14327824427480917\n",
      "-0.14327824427480917\n",
      "0.16640935114503808\n",
      "0.16640935114503808\n",
      "0.16640935114503808\n",
      "0.16640935114503808\n",
      "0.16640935114503808\n",
      "0.16640935114503808\n",
      "0.16640935114503808\n",
      "0.16640935114503808\n",
      "-0.14327824427480917\n",
      "-0.14327824427480917\n",
      "-0.14327824427480917\n",
      "-0.14327824427480917\n",
      "-0.14327824427480917\n",
      "0.16640935114503808\n",
      "0.16640935114503808\n",
      "0.16640935114503808\n",
      "0.16640935114503808\n",
      "0.16640935114503808\n",
      "0.16640935114503808\n",
      "-0.14327824427480917\n",
      "-0.14327824427480917\n",
      "-0.14327824427480917\n",
      "-0.14327824427480917\n",
      "-0.14327824427480917\n",
      "-0.14327824427480917\n",
      "-0.14327824427480917\n"
     ]
    }
   ],
   "source": [
    "for i in df_filter[df_filter['Z-Score gyz'] > threshold].index:\n",
    "    print(df_filter.at[i, 'gyroscope z'])"
   ]
  },
  {
   "cell_type": "code",
   "execution_count": null,
   "metadata": {},
   "outputs": [],
   "source": []
  },
  {
   "cell_type": "code",
   "execution_count": 117,
   "metadata": {},
   "outputs": [
    {
     "data": {
      "text/plain": [
       "-0.35618241039124415"
      ]
     },
     "execution_count": 117,
     "metadata": {},
     "output_type": "execute_result"
    }
   ],
   "source": [
    "df_filter['acceleration x'].skew()"
   ]
  },
  {
   "cell_type": "code",
   "execution_count": 118,
   "metadata": {},
   "outputs": [
    {
     "data": {
      "text/plain": [
       "0.09506396900755701"
      ]
     },
     "execution_count": 118,
     "metadata": {},
     "output_type": "execute_result"
    }
   ],
   "source": [
    "df_filter['acceleration y'].skew()"
   ]
  },
  {
   "cell_type": "code",
   "execution_count": 119,
   "metadata": {},
   "outputs": [
    {
     "data": {
      "text/plain": [
       "0.2902115740321299"
      ]
     },
     "execution_count": 119,
     "metadata": {},
     "output_type": "execute_result"
    }
   ],
   "source": [
    "df_filter['acceleration z'].skew()"
   ]
  },
  {
   "cell_type": "code",
   "execution_count": 120,
   "metadata": {},
   "outputs": [
    {
     "data": {
      "text/plain": [
       "-0.0884098602230357"
      ]
     },
     "execution_count": 120,
     "metadata": {},
     "output_type": "execute_result"
    }
   ],
   "source": [
    "df_filter['gyroscope x'].skew()"
   ]
  },
  {
   "cell_type": "code",
   "execution_count": 121,
   "metadata": {},
   "outputs": [
    {
     "data": {
      "text/plain": [
       "-0.07379346635270606"
      ]
     },
     "execution_count": 121,
     "metadata": {},
     "output_type": "execute_result"
    }
   ],
   "source": [
    "df_filter['gyroscope y'].skew()"
   ]
  },
  {
   "cell_type": "code",
   "execution_count": 122,
   "metadata": {},
   "outputs": [
    {
     "data": {
      "text/plain": [
       "0.05529771484733062"
      ]
     },
     "execution_count": 122,
     "metadata": {},
     "output_type": "execute_result"
    }
   ],
   "source": [
    "df_filter['gyroscope z'].skew()"
   ]
  },
  {
   "cell_type": "code",
   "execution_count": null,
   "metadata": {},
   "outputs": [],
   "source": []
  },
  {
   "cell_type": "code",
   "execution_count": 123,
   "metadata": {},
   "outputs": [
    {
     "data": {
      "text/html": [
       "<div>\n",
       "<style scoped>\n",
       "    .dataframe tbody tr th:only-of-type {\n",
       "        vertical-align: middle;\n",
       "    }\n",
       "\n",
       "    .dataframe tbody tr th {\n",
       "        vertical-align: top;\n",
       "    }\n",
       "\n",
       "    .dataframe thead th {\n",
       "        text-align: right;\n",
       "    }\n",
       "</style>\n",
       "<table border=\"1\" class=\"dataframe\">\n",
       "  <thead>\n",
       "    <tr style=\"text-align: right;\">\n",
       "      <th></th>\n",
       "      <th>time</th>\n",
       "      <th>acceleration x</th>\n",
       "      <th>acceleration y</th>\n",
       "      <th>acceleration z</th>\n",
       "      <th>gyroscope x</th>\n",
       "      <th>gyroscope y</th>\n",
       "      <th>gyroscope z</th>\n",
       "      <th>Z-Score accx</th>\n",
       "      <th>Z-Score accy</th>\n",
       "      <th>Z-Score accz</th>\n",
       "      <th>Z-Score gyx</th>\n",
       "      <th>Z-Score gyy</th>\n",
       "      <th>Z-Score gyz</th>\n",
       "    </tr>\n",
       "  </thead>\n",
       "  <tbody>\n",
       "    <tr>\n",
       "      <th>count</th>\n",
       "      <td>1224.000000</td>\n",
       "      <td>1224.000000</td>\n",
       "      <td>1224.000000</td>\n",
       "      <td>1224.000000</td>\n",
       "      <td>1224.000000</td>\n",
       "      <td>1224.000000</td>\n",
       "      <td>1224.000000</td>\n",
       "      <td>1224.000000</td>\n",
       "      <td>1224.000000</td>\n",
       "      <td>1224.000000</td>\n",
       "      <td>1224.000000</td>\n",
       "      <td>1224.000000</td>\n",
       "      <td>1224.000000</td>\n",
       "    </tr>\n",
       "    <tr>\n",
       "      <th>mean</th>\n",
       "      <td>11.507798</td>\n",
       "      <td>0.000431</td>\n",
       "      <td>0.000001</td>\n",
       "      <td>-0.000203</td>\n",
       "      <td>-0.000024</td>\n",
       "      <td>0.000062</td>\n",
       "      <td>0.006672</td>\n",
       "      <td>0.905581</td>\n",
       "      <td>0.429237</td>\n",
       "      <td>0.877779</td>\n",
       "      <td>0.614959</td>\n",
       "      <td>0.644492</td>\n",
       "      <td>0.517691</td>\n",
       "    </tr>\n",
       "    <tr>\n",
       "      <th>std</th>\n",
       "      <td>6.685576</td>\n",
       "      <td>0.000204</td>\n",
       "      <td>0.000028</td>\n",
       "      <td>0.000360</td>\n",
       "      <td>0.001635</td>\n",
       "      <td>0.006518</td>\n",
       "      <td>0.078872</td>\n",
       "      <td>0.424346</td>\n",
       "      <td>0.903561</td>\n",
       "      <td>0.479262</td>\n",
       "      <td>0.788881</td>\n",
       "      <td>0.764923</td>\n",
       "      <td>0.855917</td>\n",
       "    </tr>\n",
       "    <tr>\n",
       "      <th>min</th>\n",
       "      <td>0.013000</td>\n",
       "      <td>-0.000075</td>\n",
       "      <td>-0.000137</td>\n",
       "      <td>-0.001191</td>\n",
       "      <td>-0.005221</td>\n",
       "      <td>-0.014576</td>\n",
       "      <td>-0.299225</td>\n",
       "      <td>0.004509</td>\n",
       "      <td>0.000359</td>\n",
       "      <td>0.000704</td>\n",
       "      <td>0.000707</td>\n",
       "      <td>0.001922</td>\n",
       "      <td>0.000386</td>\n",
       "    </tr>\n",
       "    <tr>\n",
       "      <th>25%</th>\n",
       "      <td>5.725000</td>\n",
       "      <td>0.000165</td>\n",
       "      <td>-0.000008</td>\n",
       "      <td>-0.000596</td>\n",
       "      <td>-0.000400</td>\n",
       "      <td>-0.000835</td>\n",
       "      <td>-0.002899</td>\n",
       "      <td>0.626644</td>\n",
       "      <td>0.111618</td>\n",
       "      <td>0.519955</td>\n",
       "      <td>0.036839</td>\n",
       "      <td>0.023501</td>\n",
       "      <td>0.058915</td>\n",
       "    </tr>\n",
       "    <tr>\n",
       "      <th>50%</th>\n",
       "      <td>11.517700</td>\n",
       "      <td>0.000529</td>\n",
       "      <td>0.000005</td>\n",
       "      <td>-0.000220</td>\n",
       "      <td>0.000030</td>\n",
       "      <td>-0.000089</td>\n",
       "      <td>0.001690</td>\n",
       "      <td>0.872159</td>\n",
       "      <td>0.173842</td>\n",
       "      <td>1.056216</td>\n",
       "      <td>0.180141</td>\n",
       "      <td>0.193489</td>\n",
       "      <td>0.101095</td>\n",
       "    </tr>\n",
       "    <tr>\n",
       "      <th>75%</th>\n",
       "      <td>17.257150</td>\n",
       "      <td>0.000599</td>\n",
       "      <td>0.000008</td>\n",
       "      <td>0.000075</td>\n",
       "      <td>0.000251</td>\n",
       "      <td>0.001924</td>\n",
       "      <td>0.017962</td>\n",
       "      <td>1.291446</td>\n",
       "      <td>0.444610</td>\n",
       "      <td>1.106037</td>\n",
       "      <td>1.050790</td>\n",
       "      <td>1.231206</td>\n",
       "      <td>0.635769</td>\n",
       "    </tr>\n",
       "    <tr>\n",
       "      <th>max</th>\n",
       "      <td>23.131800</td>\n",
       "      <td>0.000958</td>\n",
       "      <td>0.000137</td>\n",
       "      <td>0.000818</td>\n",
       "      <td>0.004756</td>\n",
       "      <td>0.014576</td>\n",
       "      <td>0.314667</td>\n",
       "      <td>3.672749</td>\n",
       "      <td>17.034714</td>\n",
       "      <td>3.446546</td>\n",
       "      <td>4.449453</td>\n",
       "      <td>2.246487</td>\n",
       "      <td>7.749777</td>\n",
       "    </tr>\n",
       "  </tbody>\n",
       "</table>\n",
       "</div>"
      ],
      "text/plain": [
       "              time  acceleration x  acceleration y  acceleration z  \\\n",
       "count  1224.000000     1224.000000     1224.000000     1224.000000   \n",
       "mean     11.507798        0.000431        0.000001       -0.000203   \n",
       "std       6.685576        0.000204        0.000028        0.000360   \n",
       "min       0.013000       -0.000075       -0.000137       -0.001191   \n",
       "25%       5.725000        0.000165       -0.000008       -0.000596   \n",
       "50%      11.517700        0.000529        0.000005       -0.000220   \n",
       "75%      17.257150        0.000599        0.000008        0.000075   \n",
       "max      23.131800        0.000958        0.000137        0.000818   \n",
       "\n",
       "       gyroscope x  gyroscope y  gyroscope z  Z-Score accx  Z-Score accy  \\\n",
       "count  1224.000000  1224.000000  1224.000000   1224.000000   1224.000000   \n",
       "mean     -0.000024     0.000062     0.006672      0.905581      0.429237   \n",
       "std       0.001635     0.006518     0.078872      0.424346      0.903561   \n",
       "min      -0.005221    -0.014576    -0.299225      0.004509      0.000359   \n",
       "25%      -0.000400    -0.000835    -0.002899      0.626644      0.111618   \n",
       "50%       0.000030    -0.000089     0.001690      0.872159      0.173842   \n",
       "75%       0.000251     0.001924     0.017962      1.291446      0.444610   \n",
       "max       0.004756     0.014576     0.314667      3.672749     17.034714   \n",
       "\n",
       "       Z-Score accz  Z-Score gyx  Z-Score gyy  Z-Score gyz  \n",
       "count   1224.000000  1224.000000  1224.000000  1224.000000  \n",
       "mean       0.877779     0.614959     0.644492     0.517691  \n",
       "std        0.479262     0.788881     0.764923     0.855917  \n",
       "min        0.000704     0.000707     0.001922     0.000386  \n",
       "25%        0.519955     0.036839     0.023501     0.058915  \n",
       "50%        1.056216     0.180141     0.193489     0.101095  \n",
       "75%        1.106037     1.050790     1.231206     0.635769  \n",
       "max        3.446546     4.449453     2.246487     7.749777  "
      ]
     },
     "execution_count": 123,
     "metadata": {},
     "output_type": "execute_result"
    }
   ],
   "source": [
    "df_filter.describe()"
   ]
  },
  {
   "cell_type": "code",
   "execution_count": null,
   "metadata": {},
   "outputs": [],
   "source": []
  },
  {
   "cell_type": "code",
   "execution_count": 124,
   "metadata": {},
   "outputs": [],
   "source": [
    "new_df = df_filter.drop(['Z-Score accx', 'Z-Score accy', 'Z-Score accz', 'Z-Score gyx', 'Z-Score gyy', 'Z-Score gyz'], axis=1)"
   ]
  },
  {
   "cell_type": "code",
   "execution_count": 125,
   "metadata": {},
   "outputs": [
    {
     "data": {
      "text/html": [
       "<div>\n",
       "<style scoped>\n",
       "    .dataframe tbody tr th:only-of-type {\n",
       "        vertical-align: middle;\n",
       "    }\n",
       "\n",
       "    .dataframe tbody tr th {\n",
       "        vertical-align: top;\n",
       "    }\n",
       "\n",
       "    .dataframe thead th {\n",
       "        text-align: right;\n",
       "    }\n",
       "</style>\n",
       "<table border=\"1\" class=\"dataframe\">\n",
       "  <thead>\n",
       "    <tr style=\"text-align: right;\">\n",
       "      <th></th>\n",
       "      <th>time</th>\n",
       "      <th>acceleration x</th>\n",
       "      <th>acceleration y</th>\n",
       "      <th>acceleration z</th>\n",
       "      <th>gyroscope x</th>\n",
       "      <th>gyroscope y</th>\n",
       "      <th>gyroscope z</th>\n",
       "    </tr>\n",
       "  </thead>\n",
       "  <tbody>\n",
       "    <tr>\n",
       "      <th>count</th>\n",
       "      <td>1224.000000</td>\n",
       "      <td>1224.000000</td>\n",
       "      <td>1224.000000</td>\n",
       "      <td>1224.000000</td>\n",
       "      <td>1224.000000</td>\n",
       "      <td>1224.000000</td>\n",
       "      <td>1224.000000</td>\n",
       "    </tr>\n",
       "    <tr>\n",
       "      <th>mean</th>\n",
       "      <td>11.507798</td>\n",
       "      <td>0.000431</td>\n",
       "      <td>0.000001</td>\n",
       "      <td>-0.000203</td>\n",
       "      <td>-0.000024</td>\n",
       "      <td>0.000062</td>\n",
       "      <td>0.006672</td>\n",
       "    </tr>\n",
       "    <tr>\n",
       "      <th>std</th>\n",
       "      <td>6.685576</td>\n",
       "      <td>0.000204</td>\n",
       "      <td>0.000028</td>\n",
       "      <td>0.000360</td>\n",
       "      <td>0.001635</td>\n",
       "      <td>0.006518</td>\n",
       "      <td>0.078872</td>\n",
       "    </tr>\n",
       "    <tr>\n",
       "      <th>min</th>\n",
       "      <td>0.013000</td>\n",
       "      <td>-0.000075</td>\n",
       "      <td>-0.000137</td>\n",
       "      <td>-0.001191</td>\n",
       "      <td>-0.005221</td>\n",
       "      <td>-0.014576</td>\n",
       "      <td>-0.299225</td>\n",
       "    </tr>\n",
       "    <tr>\n",
       "      <th>25%</th>\n",
       "      <td>5.725000</td>\n",
       "      <td>0.000165</td>\n",
       "      <td>-0.000008</td>\n",
       "      <td>-0.000596</td>\n",
       "      <td>-0.000400</td>\n",
       "      <td>-0.000835</td>\n",
       "      <td>-0.002899</td>\n",
       "    </tr>\n",
       "    <tr>\n",
       "      <th>50%</th>\n",
       "      <td>11.517700</td>\n",
       "      <td>0.000529</td>\n",
       "      <td>0.000005</td>\n",
       "      <td>-0.000220</td>\n",
       "      <td>0.000030</td>\n",
       "      <td>-0.000089</td>\n",
       "      <td>0.001690</td>\n",
       "    </tr>\n",
       "    <tr>\n",
       "      <th>75%</th>\n",
       "      <td>17.257150</td>\n",
       "      <td>0.000599</td>\n",
       "      <td>0.000008</td>\n",
       "      <td>0.000075</td>\n",
       "      <td>0.000251</td>\n",
       "      <td>0.001924</td>\n",
       "      <td>0.017962</td>\n",
       "    </tr>\n",
       "    <tr>\n",
       "      <th>max</th>\n",
       "      <td>23.131800</td>\n",
       "      <td>0.000958</td>\n",
       "      <td>0.000137</td>\n",
       "      <td>0.000818</td>\n",
       "      <td>0.004756</td>\n",
       "      <td>0.014576</td>\n",
       "      <td>0.314667</td>\n",
       "    </tr>\n",
       "  </tbody>\n",
       "</table>\n",
       "</div>"
      ],
      "text/plain": [
       "              time  acceleration x  acceleration y  acceleration z  \\\n",
       "count  1224.000000     1224.000000     1224.000000     1224.000000   \n",
       "mean     11.507798        0.000431        0.000001       -0.000203   \n",
       "std       6.685576        0.000204        0.000028        0.000360   \n",
       "min       0.013000       -0.000075       -0.000137       -0.001191   \n",
       "25%       5.725000        0.000165       -0.000008       -0.000596   \n",
       "50%      11.517700        0.000529        0.000005       -0.000220   \n",
       "75%      17.257150        0.000599        0.000008        0.000075   \n",
       "max      23.131800        0.000958        0.000137        0.000818   \n",
       "\n",
       "       gyroscope x  gyroscope y  gyroscope z  \n",
       "count  1224.000000  1224.000000  1224.000000  \n",
       "mean     -0.000024     0.000062     0.006672  \n",
       "std       0.001635     0.006518     0.078872  \n",
       "min      -0.005221    -0.014576    -0.299225  \n",
       "25%      -0.000400    -0.000835    -0.002899  \n",
       "50%       0.000030    -0.000089     0.001690  \n",
       "75%       0.000251     0.001924     0.017962  \n",
       "max       0.004756     0.014576     0.314667  "
      ]
     },
     "execution_count": 125,
     "metadata": {},
     "output_type": "execute_result"
    }
   ],
   "source": [
    "new_df.describe()"
   ]
  },
  {
   "cell_type": "code",
   "execution_count": 126,
   "metadata": {},
   "outputs": [],
   "source": [
    "def get_atan(num, deno1, deno2):\n",
    "    return 180*math.atan2(num,math.sqrt(deno1**2+deno2**2))/math.pi"
   ]
  },
  {
   "cell_type": "code",
   "execution_count": 127,
   "metadata": {},
   "outputs": [],
   "source": [
    "def get_atan_rad(num, deno1, deno2):\n",
    "    return math.atan2(num,math.sqrt(deno1**2+deno2**2))"
   ]
  },
  {
   "cell_type": "code",
   "execution_count": 128,
   "metadata": {},
   "outputs": [],
   "source": [
    "acc_errorX = 0\n",
    "acc_errorY = 0\n",
    "gy_errorX = 0\n",
    "gy_errorY = 0"
   ]
  },
  {
   "cell_type": "code",
   "execution_count": 129,
   "metadata": {},
   "outputs": [
    {
     "data": {
      "text/plain": [
       "(0.11690552016206927, -51.029379515565104)"
      ]
     },
     "execution_count": 129,
     "metadata": {},
     "output_type": "execute_result"
    }
   ],
   "source": [
    "i = 0\n",
    "while(i<len(new_df.index)):\n",
    "    acc_errorX = acc_errorX + get_atan(new_df['acceleration y'][i], new_df['acceleration x'][i], new_df['acceleration z'][i])\n",
    "    acc_errorY = acc_errorY + get_atan(new_df['acceleration x'][i]*(-1), new_df['acceleration y'][i], new_df['acceleration z'][i])\n",
    "    i+=1\n",
    "acc_errorX = acc_errorX/(len(new_df.index))\n",
    "acc_errorY = acc_errorY/(len(new_df.index))\n",
    "acc_errorX, acc_errorY"
   ]
  },
  {
   "cell_type": "code",
   "execution_count": 130,
   "metadata": {},
   "outputs": [
    {
     "data": {
      "text/plain": [
       "(-2.350312453225567e-05, 6.152023150227024e-05)"
      ]
     },
     "execution_count": 130,
     "metadata": {},
     "output_type": "execute_result"
    }
   ],
   "source": [
    "i = 0\n",
    "while(i<len(df_filter.index)):\n",
    "    gy_errorX = gy_errorX + new_df['gyroscope x'][i]\n",
    "    gy_errorY = gy_errorY + new_df['gyroscope y'][i]\n",
    "    i+=1\n",
    "gy_errorX = gy_errorX/(len(new_df.index))\n",
    "gy_errorY = gy_errorY/(len(new_df.index))\n",
    "gy_errorX, gy_errorY"
   ]
  },
  {
   "cell_type": "code",
   "execution_count": 131,
   "metadata": {},
   "outputs": [
    {
     "data": {
      "text/html": [
       "<div>\n",
       "<style scoped>\n",
       "    .dataframe tbody tr th:only-of-type {\n",
       "        vertical-align: middle;\n",
       "    }\n",
       "\n",
       "    .dataframe tbody tr th {\n",
       "        vertical-align: top;\n",
       "    }\n",
       "\n",
       "    .dataframe thead th {\n",
       "        text-align: right;\n",
       "    }\n",
       "</style>\n",
       "<table border=\"1\" class=\"dataframe\">\n",
       "  <thead>\n",
       "    <tr style=\"text-align: right;\">\n",
       "      <th></th>\n",
       "      <th>time</th>\n",
       "      <th>acceleration x</th>\n",
       "      <th>acceleration y</th>\n",
       "      <th>acceleration z</th>\n",
       "      <th>gyroscope x</th>\n",
       "      <th>gyroscope y</th>\n",
       "      <th>gyroscope z</th>\n",
       "      <th>accAngleX</th>\n",
       "      <th>accAngleY</th>\n",
       "    </tr>\n",
       "  </thead>\n",
       "  <tbody>\n",
       "    <tr>\n",
       "      <th>0</th>\n",
       "      <td>0.0130</td>\n",
       "      <td>0.000165</td>\n",
       "      <td>0.000008</td>\n",
       "      <td>-0.000605</td>\n",
       "      <td>0.000024</td>\n",
       "      <td>-0.000081</td>\n",
       "      <td>0.001806</td>\n",
       "      <td>0.577214</td>\n",
       "      <td>35.779857</td>\n",
       "    </tr>\n",
       "    <tr>\n",
       "      <th>1</th>\n",
       "      <td>0.0264</td>\n",
       "      <td>0.000163</td>\n",
       "      <td>0.000005</td>\n",
       "      <td>-0.000600</td>\n",
       "      <td>0.000028</td>\n",
       "      <td>-0.000076</td>\n",
       "      <td>0.001456</td>\n",
       "      <td>0.327578</td>\n",
       "      <td>35.804388</td>\n",
       "    </tr>\n",
       "    <tr>\n",
       "      <th>2</th>\n",
       "      <td>0.0395</td>\n",
       "      <td>0.000161</td>\n",
       "      <td>0.000011</td>\n",
       "      <td>-0.000591</td>\n",
       "      <td>0.000038</td>\n",
       "      <td>-0.000092</td>\n",
       "      <td>0.002156</td>\n",
       "      <td>0.867762</td>\n",
       "      <td>35.781477</td>\n",
       "    </tr>\n",
       "    <tr>\n",
       "      <th>3</th>\n",
       "      <td>0.0529</td>\n",
       "      <td>0.000166</td>\n",
       "      <td>0.000005</td>\n",
       "      <td>-0.000600</td>\n",
       "      <td>0.000035</td>\n",
       "      <td>-0.000086</td>\n",
       "      <td>0.000641</td>\n",
       "      <td>0.353647</td>\n",
       "      <td>35.542535</td>\n",
       "    </tr>\n",
       "    <tr>\n",
       "      <th>4</th>\n",
       "      <td>0.0666</td>\n",
       "      <td>0.000160</td>\n",
       "      <td>0.000005</td>\n",
       "      <td>-0.000607</td>\n",
       "      <td>0.000041</td>\n",
       "      <td>-0.000089</td>\n",
       "      <td>0.002564</td>\n",
       "      <td>0.349719</td>\n",
       "      <td>36.227451</td>\n",
       "    </tr>\n",
       "    <tr>\n",
       "      <th>...</th>\n",
       "      <td>...</td>\n",
       "      <td>...</td>\n",
       "      <td>...</td>\n",
       "      <td>...</td>\n",
       "      <td>...</td>\n",
       "      <td>...</td>\n",
       "      <td>...</td>\n",
       "      <td>...</td>\n",
       "      <td>...</td>\n",
       "    </tr>\n",
       "    <tr>\n",
       "      <th>1219</th>\n",
       "      <td>23.0377</td>\n",
       "      <td>0.000449</td>\n",
       "      <td>-0.000005</td>\n",
       "      <td>0.000216</td>\n",
       "      <td>-0.000873</td>\n",
       "      <td>-0.014576</td>\n",
       "      <td>-0.143278</td>\n",
       "      <td>-0.688459</td>\n",
       "      <td>-13.226823</td>\n",
       "    </tr>\n",
       "    <tr>\n",
       "      <th>1220</th>\n",
       "      <td>23.0583</td>\n",
       "      <td>0.000456</td>\n",
       "      <td>0.000027</td>\n",
       "      <td>0.000060</td>\n",
       "      <td>0.000020</td>\n",
       "      <td>-0.014576</td>\n",
       "      <td>-0.143278</td>\n",
       "      <td>3.208022</td>\n",
       "      <td>-30.806130</td>\n",
       "    </tr>\n",
       "    <tr>\n",
       "      <th>1221</th>\n",
       "      <td>23.0774</td>\n",
       "      <td>0.000475</td>\n",
       "      <td>0.000062</td>\n",
       "      <td>-0.000098</td>\n",
       "      <td>-0.000479</td>\n",
       "      <td>-0.014576</td>\n",
       "      <td>-0.143278</td>\n",
       "      <td>7.149350</td>\n",
       "      <td>-25.265361</td>\n",
       "    </tr>\n",
       "    <tr>\n",
       "      <th>1222</th>\n",
       "      <td>23.0969</td>\n",
       "      <td>0.000457</td>\n",
       "      <td>0.000116</td>\n",
       "      <td>-0.000213</td>\n",
       "      <td>-0.002154</td>\n",
       "      <td>-0.014576</td>\n",
       "      <td>-0.143278</td>\n",
       "      <td>12.875888</td>\n",
       "      <td>-11.037394</td>\n",
       "    </tr>\n",
       "    <tr>\n",
       "      <th>1223</th>\n",
       "      <td>23.1318</td>\n",
       "      <td>0.000400</td>\n",
       "      <td>0.000048</td>\n",
       "      <td>-0.000506</td>\n",
       "      <td>-0.003263</td>\n",
       "      <td>-0.014576</td>\n",
       "      <td>-0.143278</td>\n",
       "      <td>4.157000</td>\n",
       "      <td>12.828088</td>\n",
       "    </tr>\n",
       "  </tbody>\n",
       "</table>\n",
       "<p>1224 rows × 9 columns</p>\n",
       "</div>"
      ],
      "text/plain": [
       "         time  acceleration x  acceleration y  acceleration z  gyroscope x  \\\n",
       "0      0.0130        0.000165        0.000008       -0.000605     0.000024   \n",
       "1      0.0264        0.000163        0.000005       -0.000600     0.000028   \n",
       "2      0.0395        0.000161        0.000011       -0.000591     0.000038   \n",
       "3      0.0529        0.000166        0.000005       -0.000600     0.000035   \n",
       "4      0.0666        0.000160        0.000005       -0.000607     0.000041   \n",
       "...       ...             ...             ...             ...          ...   \n",
       "1219  23.0377        0.000449       -0.000005        0.000216    -0.000873   \n",
       "1220  23.0583        0.000456        0.000027        0.000060     0.000020   \n",
       "1221  23.0774        0.000475        0.000062       -0.000098    -0.000479   \n",
       "1222  23.0969        0.000457        0.000116       -0.000213    -0.002154   \n",
       "1223  23.1318        0.000400        0.000048       -0.000506    -0.003263   \n",
       "\n",
       "      gyroscope y  gyroscope z  accAngleX  accAngleY  \n",
       "0       -0.000081     0.001806   0.577214  35.779857  \n",
       "1       -0.000076     0.001456   0.327578  35.804388  \n",
       "2       -0.000092     0.002156   0.867762  35.781477  \n",
       "3       -0.000086     0.000641   0.353647  35.542535  \n",
       "4       -0.000089     0.002564   0.349719  36.227451  \n",
       "...           ...          ...        ...        ...  \n",
       "1219    -0.014576    -0.143278  -0.688459 -13.226823  \n",
       "1220    -0.014576    -0.143278   3.208022 -30.806130  \n",
       "1221    -0.014576    -0.143278   7.149350 -25.265361  \n",
       "1222    -0.014576    -0.143278  12.875888 -11.037394  \n",
       "1223    -0.014576    -0.143278   4.157000  12.828088  \n",
       "\n",
       "[1224 rows x 9 columns]"
      ]
     },
     "execution_count": 131,
     "metadata": {},
     "output_type": "execute_result"
    }
   ],
   "source": [
    "new_df['accAngleX'] = new_df.apply(lambda x: get_atan(x['acceleration y'], x['acceleration x'], x['acceleration z']), axis=1)\n",
    "new_df['accAngleY'] = new_df.apply(lambda x: get_atan(x['acceleration x']*(-1), x['acceleration y'], x['acceleration z']), axis=1)\n",
    "new_df['accAngleX'] = new_df['accAngleX']-acc_errorX\n",
    "new_df['accAngleY'] = new_df['accAngleY']-acc_errorY\n",
    "                                         \n",
    "new_df"
   ]
  },
  {
   "cell_type": "code",
   "execution_count": 132,
   "metadata": {},
   "outputs": [
    {
     "data": {
      "text/html": [
       "<div>\n",
       "<style scoped>\n",
       "    .dataframe tbody tr th:only-of-type {\n",
       "        vertical-align: middle;\n",
       "    }\n",
       "\n",
       "    .dataframe tbody tr th {\n",
       "        vertical-align: top;\n",
       "    }\n",
       "\n",
       "    .dataframe thead th {\n",
       "        text-align: right;\n",
       "    }\n",
       "</style>\n",
       "<table border=\"1\" class=\"dataframe\">\n",
       "  <thead>\n",
       "    <tr style=\"text-align: right;\">\n",
       "      <th></th>\n",
       "      <th>time</th>\n",
       "      <th>acceleration x</th>\n",
       "      <th>acceleration y</th>\n",
       "      <th>acceleration z</th>\n",
       "      <th>gyroscope x</th>\n",
       "      <th>gyroscope y</th>\n",
       "      <th>gyroscope z</th>\n",
       "      <th>accAngleX</th>\n",
       "      <th>accAngleY</th>\n",
       "      <th>gyroAngleX</th>\n",
       "      <th>gyroAngleY</th>\n",
       "    </tr>\n",
       "  </thead>\n",
       "  <tbody>\n",
       "    <tr>\n",
       "      <th>0</th>\n",
       "      <td>0.0130</td>\n",
       "      <td>0.000165</td>\n",
       "      <td>0.000008</td>\n",
       "      <td>-0.000605</td>\n",
       "      <td>0.000024</td>\n",
       "      <td>-0.000081</td>\n",
       "      <td>0.001806</td>\n",
       "      <td>0.577214</td>\n",
       "      <td>35.779857</td>\n",
       "      <td>0.000024</td>\n",
       "      <td>-0.000063</td>\n",
       "    </tr>\n",
       "    <tr>\n",
       "      <th>1</th>\n",
       "      <td>0.0264</td>\n",
       "      <td>0.000163</td>\n",
       "      <td>0.000005</td>\n",
       "      <td>-0.000600</td>\n",
       "      <td>0.000028</td>\n",
       "      <td>-0.000076</td>\n",
       "      <td>0.001456</td>\n",
       "      <td>0.327578</td>\n",
       "      <td>35.804388</td>\n",
       "      <td>0.000024</td>\n",
       "      <td>-0.000064</td>\n",
       "    </tr>\n",
       "    <tr>\n",
       "      <th>2</th>\n",
       "      <td>0.0395</td>\n",
       "      <td>0.000161</td>\n",
       "      <td>0.000011</td>\n",
       "      <td>-0.000591</td>\n",
       "      <td>0.000038</td>\n",
       "      <td>-0.000092</td>\n",
       "      <td>0.002156</td>\n",
       "      <td>0.867762</td>\n",
       "      <td>35.781477</td>\n",
       "      <td>0.000025</td>\n",
       "      <td>-0.000065</td>\n",
       "    </tr>\n",
       "    <tr>\n",
       "      <th>3</th>\n",
       "      <td>0.0529</td>\n",
       "      <td>0.000166</td>\n",
       "      <td>0.000005</td>\n",
       "      <td>-0.000600</td>\n",
       "      <td>0.000035</td>\n",
       "      <td>-0.000086</td>\n",
       "      <td>0.000641</td>\n",
       "      <td>0.353647</td>\n",
       "      <td>35.542535</td>\n",
       "      <td>0.000025</td>\n",
       "      <td>-0.000066</td>\n",
       "    </tr>\n",
       "    <tr>\n",
       "      <th>4</th>\n",
       "      <td>0.0666</td>\n",
       "      <td>0.000160</td>\n",
       "      <td>0.000005</td>\n",
       "      <td>-0.000607</td>\n",
       "      <td>0.000041</td>\n",
       "      <td>-0.000089</td>\n",
       "      <td>0.002564</td>\n",
       "      <td>0.349719</td>\n",
       "      <td>36.227451</td>\n",
       "      <td>0.000026</td>\n",
       "      <td>-0.000067</td>\n",
       "    </tr>\n",
       "    <tr>\n",
       "      <th>...</th>\n",
       "      <td>...</td>\n",
       "      <td>...</td>\n",
       "      <td>...</td>\n",
       "      <td>...</td>\n",
       "      <td>...</td>\n",
       "      <td>...</td>\n",
       "      <td>...</td>\n",
       "      <td>...</td>\n",
       "      <td>...</td>\n",
       "      <td>...</td>\n",
       "      <td>...</td>\n",
       "    </tr>\n",
       "    <tr>\n",
       "      <th>1219</th>\n",
       "      <td>23.0377</td>\n",
       "      <td>0.000449</td>\n",
       "      <td>-0.000005</td>\n",
       "      <td>0.000216</td>\n",
       "      <td>-0.000873</td>\n",
       "      <td>-0.014576</td>\n",
       "      <td>-0.143278</td>\n",
       "      <td>-0.688459</td>\n",
       "      <td>-13.226823</td>\n",
       "      <td>-0.020077</td>\n",
       "      <td>-0.335849</td>\n",
       "    </tr>\n",
       "    <tr>\n",
       "      <th>1220</th>\n",
       "      <td>23.0583</td>\n",
       "      <td>0.000456</td>\n",
       "      <td>0.000027</td>\n",
       "      <td>0.000060</td>\n",
       "      <td>0.000020</td>\n",
       "      <td>-0.014576</td>\n",
       "      <td>-0.143278</td>\n",
       "      <td>3.208022</td>\n",
       "      <td>-30.806130</td>\n",
       "      <td>0.000481</td>\n",
       "      <td>-0.336149</td>\n",
       "    </tr>\n",
       "    <tr>\n",
       "      <th>1221</th>\n",
       "      <td>23.0774</td>\n",
       "      <td>0.000475</td>\n",
       "      <td>0.000062</td>\n",
       "      <td>-0.000098</td>\n",
       "      <td>-0.000479</td>\n",
       "      <td>-0.014576</td>\n",
       "      <td>-0.143278</td>\n",
       "      <td>7.149350</td>\n",
       "      <td>-25.265361</td>\n",
       "      <td>-0.011040</td>\n",
       "      <td>-0.336428</td>\n",
       "    </tr>\n",
       "    <tr>\n",
       "      <th>1222</th>\n",
       "      <td>23.0969</td>\n",
       "      <td>0.000457</td>\n",
       "      <td>0.000116</td>\n",
       "      <td>-0.000213</td>\n",
       "      <td>-0.002154</td>\n",
       "      <td>-0.014576</td>\n",
       "      <td>-0.143278</td>\n",
       "      <td>12.875888</td>\n",
       "      <td>-11.037394</td>\n",
       "      <td>-0.049732</td>\n",
       "      <td>-0.336712</td>\n",
       "    </tr>\n",
       "    <tr>\n",
       "      <th>1223</th>\n",
       "      <td>23.1318</td>\n",
       "      <td>0.000400</td>\n",
       "      <td>0.000048</td>\n",
       "      <td>-0.000506</td>\n",
       "      <td>-0.003263</td>\n",
       "      <td>-0.014576</td>\n",
       "      <td>-0.143278</td>\n",
       "      <td>4.157000</td>\n",
       "      <td>12.828088</td>\n",
       "      <td>-0.075453</td>\n",
       "      <td>-0.337221</td>\n",
       "    </tr>\n",
       "  </tbody>\n",
       "</table>\n",
       "<p>1224 rows × 11 columns</p>\n",
       "</div>"
      ],
      "text/plain": [
       "         time  acceleration x  acceleration y  acceleration z  gyroscope x  \\\n",
       "0      0.0130        0.000165        0.000008       -0.000605     0.000024   \n",
       "1      0.0264        0.000163        0.000005       -0.000600     0.000028   \n",
       "2      0.0395        0.000161        0.000011       -0.000591     0.000038   \n",
       "3      0.0529        0.000166        0.000005       -0.000600     0.000035   \n",
       "4      0.0666        0.000160        0.000005       -0.000607     0.000041   \n",
       "...       ...             ...             ...             ...          ...   \n",
       "1219  23.0377        0.000449       -0.000005        0.000216    -0.000873   \n",
       "1220  23.0583        0.000456        0.000027        0.000060     0.000020   \n",
       "1221  23.0774        0.000475        0.000062       -0.000098    -0.000479   \n",
       "1222  23.0969        0.000457        0.000116       -0.000213    -0.002154   \n",
       "1223  23.1318        0.000400        0.000048       -0.000506    -0.003263   \n",
       "\n",
       "      gyroscope y  gyroscope z  accAngleX  accAngleY  gyroAngleX  gyroAngleY  \n",
       "0       -0.000081     0.001806   0.577214  35.779857    0.000024   -0.000063  \n",
       "1       -0.000076     0.001456   0.327578  35.804388    0.000024   -0.000064  \n",
       "2       -0.000092     0.002156   0.867762  35.781477    0.000025   -0.000065  \n",
       "3       -0.000086     0.000641   0.353647  35.542535    0.000025   -0.000066  \n",
       "4       -0.000089     0.002564   0.349719  36.227451    0.000026   -0.000067  \n",
       "...           ...          ...        ...        ...         ...         ...  \n",
       "1219    -0.014576    -0.143278  -0.688459 -13.226823   -0.020077   -0.335849  \n",
       "1220    -0.014576    -0.143278   3.208022 -30.806130    0.000481   -0.336149  \n",
       "1221    -0.014576    -0.143278   7.149350 -25.265361   -0.011040   -0.336428  \n",
       "1222    -0.014576    -0.143278  12.875888 -11.037394   -0.049732   -0.336712  \n",
       "1223    -0.014576    -0.143278   4.157000  12.828088   -0.075453   -0.337221  \n",
       "\n",
       "[1224 rows x 11 columns]"
      ]
     },
     "execution_count": 132,
     "metadata": {},
     "output_type": "execute_result"
    }
   ],
   "source": [
    "new_df['gyroAngleX'] = new_df['gyroscope x']*new_df['time']-gy_errorX\n",
    "new_df['gyroAngleY'] = new_df['gyroscope y']*new_df['time']-gy_errorY\n",
    "new_df"
   ]
  },
  {
   "cell_type": "code",
   "execution_count": 133,
   "metadata": {},
   "outputs": [
    {
     "data": {
      "text/html": [
       "<div>\n",
       "<style scoped>\n",
       "    .dataframe tbody tr th:only-of-type {\n",
       "        vertical-align: middle;\n",
       "    }\n",
       "\n",
       "    .dataframe tbody tr th {\n",
       "        vertical-align: top;\n",
       "    }\n",
       "\n",
       "    .dataframe thead th {\n",
       "        text-align: right;\n",
       "    }\n",
       "</style>\n",
       "<table border=\"1\" class=\"dataframe\">\n",
       "  <thead>\n",
       "    <tr style=\"text-align: right;\">\n",
       "      <th></th>\n",
       "      <th>time</th>\n",
       "      <th>acceleration x</th>\n",
       "      <th>acceleration y</th>\n",
       "      <th>acceleration z</th>\n",
       "      <th>gyroscope x</th>\n",
       "      <th>gyroscope y</th>\n",
       "      <th>gyroscope z</th>\n",
       "      <th>accAngleX</th>\n",
       "      <th>accAngleY</th>\n",
       "      <th>gyroAngleX</th>\n",
       "      <th>gyroAngleY</th>\n",
       "      <th>roll</th>\n",
       "      <th>pitch</th>\n",
       "    </tr>\n",
       "  </thead>\n",
       "  <tbody>\n",
       "    <tr>\n",
       "      <th>count</th>\n",
       "      <td>1224.000000</td>\n",
       "      <td>1224.000000</td>\n",
       "      <td>1224.000000</td>\n",
       "      <td>1224.000000</td>\n",
       "      <td>1224.000000</td>\n",
       "      <td>1224.000000</td>\n",
       "      <td>1224.000000</td>\n",
       "      <td>1.224000e+03</td>\n",
       "      <td>1.224000e+03</td>\n",
       "      <td>1224.000000</td>\n",
       "      <td>1224.000000</td>\n",
       "      <td>1224.000000</td>\n",
       "      <td>1224.000000</td>\n",
       "    </tr>\n",
       "    <tr>\n",
       "      <th>mean</th>\n",
       "      <td>11.507798</td>\n",
       "      <td>0.000431</td>\n",
       "      <td>0.000001</td>\n",
       "      <td>-0.000203</td>\n",
       "      <td>-0.000024</td>\n",
       "      <td>0.000062</td>\n",
       "      <td>0.006672</td>\n",
       "      <td>-5.079452e-17</td>\n",
       "      <td>-9.457649e-14</td>\n",
       "      <td>-0.000928</td>\n",
       "      <td>-0.000652</td>\n",
       "      <td>-0.000891</td>\n",
       "      <td>-0.000626</td>\n",
       "    </tr>\n",
       "    <tr>\n",
       "      <th>std</th>\n",
       "      <td>6.685576</td>\n",
       "      <td>0.000204</td>\n",
       "      <td>0.000028</td>\n",
       "      <td>0.000360</td>\n",
       "      <td>0.001635</td>\n",
       "      <td>0.006518</td>\n",
       "      <td>0.078872</td>\n",
       "      <td>2.646875e+00</td>\n",
       "      <td>2.823023e+01</td>\n",
       "      <td>0.029012</td>\n",
       "      <td>0.110311</td>\n",
       "      <td>0.105245</td>\n",
       "      <td>1.135103</td>\n",
       "    </tr>\n",
       "    <tr>\n",
       "      <th>min</th>\n",
       "      <td>0.013000</td>\n",
       "      <td>-0.000075</td>\n",
       "      <td>-0.000137</td>\n",
       "      <td>-0.001191</td>\n",
       "      <td>-0.005221</td>\n",
       "      <td>-0.014576</td>\n",
       "      <td>-0.299225</td>\n",
       "      <td>-1.223947e+01</td>\n",
       "      <td>-3.870210e+01</td>\n",
       "      <td>-0.111232</td>\n",
       "      <td>-0.337221</td>\n",
       "      <td>-0.478574</td>\n",
       "      <td>-1.849299</td>\n",
       "    </tr>\n",
       "    <tr>\n",
       "      <th>25%</th>\n",
       "      <td>5.725000</td>\n",
       "      <td>0.000165</td>\n",
       "      <td>-0.000008</td>\n",
       "      <td>-0.000596</td>\n",
       "      <td>-0.000400</td>\n",
       "      <td>-0.000835</td>\n",
       "      <td>-0.002899</td>\n",
       "      <td>-7.868089e-01</td>\n",
       "      <td>-2.645227e+01</td>\n",
       "      <td>-0.005459</td>\n",
       "      <td>-0.014051</td>\n",
       "      <td>-0.029824</td>\n",
       "      <td>-1.048686</td>\n",
       "    </tr>\n",
       "    <tr>\n",
       "      <th>50%</th>\n",
       "      <td>11.517700</td>\n",
       "      <td>0.000529</td>\n",
       "      <td>0.000005</td>\n",
       "      <td>-0.000220</td>\n",
       "      <td>0.000030</td>\n",
       "      <td>-0.000089</td>\n",
       "      <td>0.001690</td>\n",
       "      <td>3.431247e-01</td>\n",
       "      <td>-8.787047e+00</td>\n",
       "      <td>0.000136</td>\n",
       "      <td>-0.000373</td>\n",
       "      <td>0.015030</td>\n",
       "      <td>-0.341800</td>\n",
       "    </tr>\n",
       "    <tr>\n",
       "      <th>75%</th>\n",
       "      <td>17.257150</td>\n",
       "      <td>0.000599</td>\n",
       "      <td>0.000008</td>\n",
       "      <td>0.000075</td>\n",
       "      <td>0.000251</td>\n",
       "      <td>0.001924</td>\n",
       "      <td>0.017962</td>\n",
       "      <td>6.555759e-01</td>\n",
       "      <td>3.559176e+01</td>\n",
       "      <td>0.003505</td>\n",
       "      <td>0.026575</td>\n",
       "      <td>0.027437</td>\n",
       "      <td>1.423197</td>\n",
       "    </tr>\n",
       "    <tr>\n",
       "      <th>max</th>\n",
       "      <td>23.131800</td>\n",
       "      <td>0.000958</td>\n",
       "      <td>0.000137</td>\n",
       "      <td>0.000818</td>\n",
       "      <td>0.004756</td>\n",
       "      <td>0.014576</td>\n",
       "      <td>0.314667</td>\n",
       "      <td>2.339727e+01</td>\n",
       "      <td>5.547480e+01</td>\n",
       "      <td>0.103179</td>\n",
       "      <td>0.331435</td>\n",
       "      <td>0.852552</td>\n",
       "      <td>2.227261</td>\n",
       "    </tr>\n",
       "  </tbody>\n",
       "</table>\n",
       "</div>"
      ],
      "text/plain": [
       "              time  acceleration x  acceleration y  acceleration z  \\\n",
       "count  1224.000000     1224.000000     1224.000000     1224.000000   \n",
       "mean     11.507798        0.000431        0.000001       -0.000203   \n",
       "std       6.685576        0.000204        0.000028        0.000360   \n",
       "min       0.013000       -0.000075       -0.000137       -0.001191   \n",
       "25%       5.725000        0.000165       -0.000008       -0.000596   \n",
       "50%      11.517700        0.000529        0.000005       -0.000220   \n",
       "75%      17.257150        0.000599        0.000008        0.000075   \n",
       "max      23.131800        0.000958        0.000137        0.000818   \n",
       "\n",
       "       gyroscope x  gyroscope y  gyroscope z     accAngleX     accAngleY  \\\n",
       "count  1224.000000  1224.000000  1224.000000  1.224000e+03  1.224000e+03   \n",
       "mean     -0.000024     0.000062     0.006672 -5.079452e-17 -9.457649e-14   \n",
       "std       0.001635     0.006518     0.078872  2.646875e+00  2.823023e+01   \n",
       "min      -0.005221    -0.014576    -0.299225 -1.223947e+01 -3.870210e+01   \n",
       "25%      -0.000400    -0.000835    -0.002899 -7.868089e-01 -2.645227e+01   \n",
       "50%       0.000030    -0.000089     0.001690  3.431247e-01 -8.787047e+00   \n",
       "75%       0.000251     0.001924     0.017962  6.555759e-01  3.559176e+01   \n",
       "max       0.004756     0.014576     0.314667  2.339727e+01  5.547480e+01   \n",
       "\n",
       "        gyroAngleX   gyroAngleY         roll        pitch  \n",
       "count  1224.000000  1224.000000  1224.000000  1224.000000  \n",
       "mean     -0.000928    -0.000652    -0.000891    -0.000626  \n",
       "std       0.029012     0.110311     0.105245     1.135103  \n",
       "min      -0.111232    -0.337221    -0.478574    -1.849299  \n",
       "25%      -0.005459    -0.014051    -0.029824    -1.048686  \n",
       "50%       0.000136    -0.000373     0.015030    -0.341800  \n",
       "75%       0.003505     0.026575     0.027437     1.423197  \n",
       "max       0.103179     0.331435     0.852552     2.227261  "
      ]
     },
     "execution_count": 133,
     "metadata": {},
     "output_type": "execute_result"
    }
   ],
   "source": [
    "new_df['roll'] = (0.96 * new_df['gyroAngleX']) + (0.04 * new_df['accAngleX'])\n",
    "new_df['pitch'] = (0.96 * new_df['gyroAngleY']) + (0.04 * new_df['accAngleY'])\n",
    "new_df.describe()"
   ]
  },
  {
   "cell_type": "code",
   "execution_count": 134,
   "metadata": {},
   "outputs": [
    {
     "data": {
      "text/html": [
       "<div>\n",
       "<style scoped>\n",
       "    .dataframe tbody tr th:only-of-type {\n",
       "        vertical-align: middle;\n",
       "    }\n",
       "\n",
       "    .dataframe tbody tr th {\n",
       "        vertical-align: top;\n",
       "    }\n",
       "\n",
       "    .dataframe thead th {\n",
       "        text-align: right;\n",
       "    }\n",
       "</style>\n",
       "<table border=\"1\" class=\"dataframe\">\n",
       "  <thead>\n",
       "    <tr style=\"text-align: right;\">\n",
       "      <th></th>\n",
       "      <th>time</th>\n",
       "      <th>acceleration x</th>\n",
       "      <th>acceleration y</th>\n",
       "      <th>acceleration z</th>\n",
       "      <th>gyroscope x</th>\n",
       "      <th>gyroscope y</th>\n",
       "      <th>gyroscope z</th>\n",
       "      <th>roll</th>\n",
       "      <th>pitch</th>\n",
       "    </tr>\n",
       "  </thead>\n",
       "  <tbody>\n",
       "    <tr>\n",
       "      <th>0</th>\n",
       "      <td>0.0130</td>\n",
       "      <td>0.000165</td>\n",
       "      <td>0.000008</td>\n",
       "      <td>-0.000605</td>\n",
       "      <td>0.000024</td>\n",
       "      <td>-0.000081</td>\n",
       "      <td>0.001806</td>\n",
       "      <td>0.023111</td>\n",
       "      <td>1.431134</td>\n",
       "    </tr>\n",
       "    <tr>\n",
       "      <th>1</th>\n",
       "      <td>0.0264</td>\n",
       "      <td>0.000163</td>\n",
       "      <td>0.000005</td>\n",
       "      <td>-0.000600</td>\n",
       "      <td>0.000028</td>\n",
       "      <td>-0.000076</td>\n",
       "      <td>0.001456</td>\n",
       "      <td>0.013126</td>\n",
       "      <td>1.432115</td>\n",
       "    </tr>\n",
       "    <tr>\n",
       "      <th>2</th>\n",
       "      <td>0.0395</td>\n",
       "      <td>0.000161</td>\n",
       "      <td>0.000011</td>\n",
       "      <td>-0.000591</td>\n",
       "      <td>0.000038</td>\n",
       "      <td>-0.000092</td>\n",
       "      <td>0.002156</td>\n",
       "      <td>0.034734</td>\n",
       "      <td>1.431197</td>\n",
       "    </tr>\n",
       "    <tr>\n",
       "      <th>3</th>\n",
       "      <td>0.0529</td>\n",
       "      <td>0.000166</td>\n",
       "      <td>0.000005</td>\n",
       "      <td>-0.000600</td>\n",
       "      <td>0.000035</td>\n",
       "      <td>-0.000086</td>\n",
       "      <td>0.000641</td>\n",
       "      <td>0.014170</td>\n",
       "      <td>1.421638</td>\n",
       "    </tr>\n",
       "    <tr>\n",
       "      <th>4</th>\n",
       "      <td>0.0666</td>\n",
       "      <td>0.000160</td>\n",
       "      <td>0.000005</td>\n",
       "      <td>-0.000607</td>\n",
       "      <td>0.000041</td>\n",
       "      <td>-0.000089</td>\n",
       "      <td>0.002564</td>\n",
       "      <td>0.014014</td>\n",
       "      <td>1.449033</td>\n",
       "    </tr>\n",
       "    <tr>\n",
       "      <th>...</th>\n",
       "      <td>...</td>\n",
       "      <td>...</td>\n",
       "      <td>...</td>\n",
       "      <td>...</td>\n",
       "      <td>...</td>\n",
       "      <td>...</td>\n",
       "      <td>...</td>\n",
       "      <td>...</td>\n",
       "      <td>...</td>\n",
       "    </tr>\n",
       "    <tr>\n",
       "      <th>1219</th>\n",
       "      <td>23.0377</td>\n",
       "      <td>0.000449</td>\n",
       "      <td>-0.000005</td>\n",
       "      <td>0.000216</td>\n",
       "      <td>-0.000873</td>\n",
       "      <td>-0.014576</td>\n",
       "      <td>-0.143278</td>\n",
       "      <td>-0.046813</td>\n",
       "      <td>-0.851488</td>\n",
       "    </tr>\n",
       "    <tr>\n",
       "      <th>1220</th>\n",
       "      <td>23.0583</td>\n",
       "      <td>0.000456</td>\n",
       "      <td>0.000027</td>\n",
       "      <td>0.000060</td>\n",
       "      <td>0.000020</td>\n",
       "      <td>-0.014576</td>\n",
       "      <td>-0.143278</td>\n",
       "      <td>0.128783</td>\n",
       "      <td>-1.554949</td>\n",
       "    </tr>\n",
       "    <tr>\n",
       "      <th>1221</th>\n",
       "      <td>23.0774</td>\n",
       "      <td>0.000475</td>\n",
       "      <td>0.000062</td>\n",
       "      <td>-0.000098</td>\n",
       "      <td>-0.000479</td>\n",
       "      <td>-0.014576</td>\n",
       "      <td>-0.143278</td>\n",
       "      <td>0.275376</td>\n",
       "      <td>-1.333585</td>\n",
       "    </tr>\n",
       "    <tr>\n",
       "      <th>1222</th>\n",
       "      <td>23.0969</td>\n",
       "      <td>0.000457</td>\n",
       "      <td>0.000116</td>\n",
       "      <td>-0.000213</td>\n",
       "      <td>-0.002154</td>\n",
       "      <td>-0.014576</td>\n",
       "      <td>-0.143278</td>\n",
       "      <td>0.467293</td>\n",
       "      <td>-0.764739</td>\n",
       "    </tr>\n",
       "    <tr>\n",
       "      <th>1223</th>\n",
       "      <td>23.1318</td>\n",
       "      <td>0.000400</td>\n",
       "      <td>0.000048</td>\n",
       "      <td>-0.000506</td>\n",
       "      <td>-0.003263</td>\n",
       "      <td>-0.014576</td>\n",
       "      <td>-0.143278</td>\n",
       "      <td>0.093845</td>\n",
       "      <td>0.189392</td>\n",
       "    </tr>\n",
       "  </tbody>\n",
       "</table>\n",
       "<p>1224 rows × 9 columns</p>\n",
       "</div>"
      ],
      "text/plain": [
       "         time  acceleration x  acceleration y  acceleration z  gyroscope x  \\\n",
       "0      0.0130        0.000165        0.000008       -0.000605     0.000024   \n",
       "1      0.0264        0.000163        0.000005       -0.000600     0.000028   \n",
       "2      0.0395        0.000161        0.000011       -0.000591     0.000038   \n",
       "3      0.0529        0.000166        0.000005       -0.000600     0.000035   \n",
       "4      0.0666        0.000160        0.000005       -0.000607     0.000041   \n",
       "...       ...             ...             ...             ...          ...   \n",
       "1219  23.0377        0.000449       -0.000005        0.000216    -0.000873   \n",
       "1220  23.0583        0.000456        0.000027        0.000060     0.000020   \n",
       "1221  23.0774        0.000475        0.000062       -0.000098    -0.000479   \n",
       "1222  23.0969        0.000457        0.000116       -0.000213    -0.002154   \n",
       "1223  23.1318        0.000400        0.000048       -0.000506    -0.003263   \n",
       "\n",
       "      gyroscope y  gyroscope z      roll     pitch  \n",
       "0       -0.000081     0.001806  0.023111  1.431134  \n",
       "1       -0.000076     0.001456  0.013126  1.432115  \n",
       "2       -0.000092     0.002156  0.034734  1.431197  \n",
       "3       -0.000086     0.000641  0.014170  1.421638  \n",
       "4       -0.000089     0.002564  0.014014  1.449033  \n",
       "...           ...          ...       ...       ...  \n",
       "1219    -0.014576    -0.143278 -0.046813 -0.851488  \n",
       "1220    -0.014576    -0.143278  0.128783 -1.554949  \n",
       "1221    -0.014576    -0.143278  0.275376 -1.333585  \n",
       "1222    -0.014576    -0.143278  0.467293 -0.764739  \n",
       "1223    -0.014576    -0.143278  0.093845  0.189392  \n",
       "\n",
       "[1224 rows x 9 columns]"
      ]
     },
     "execution_count": 134,
     "metadata": {},
     "output_type": "execute_result"
    }
   ],
   "source": [
    "final_df1 = new_df.drop(['accAngleX', 'accAngleY', 'gyroAngleX', 'gyroAngleY'], axis=1)\n",
    "final_df1"
   ]
  },
  {
   "cell_type": "code",
   "execution_count": 135,
   "metadata": {},
   "outputs": [
    {
     "data": {
      "text/plain": [
       "<matplotlib.axes._subplots.AxesSubplot at 0x1d612dce448>"
      ]
     },
     "execution_count": 135,
     "metadata": {},
     "output_type": "execute_result"
    },
    {
     "data": {
      "image/png": "[encoded data removed]",
      "text/plain": [
       "<Figure size 432x288 with 1 Axes>"
      ]
     },
     "metadata": {
      "needs_background": "light"
     },
     "output_type": "display_data"
    }
   ],
   "source": [
    "sb.distplot(final_df1['roll'])"
   ]
  },
  {
   "cell_type": "code",
   "execution_count": 136,
   "metadata": {},
   "outputs": [
    {
     "data": {
      "text/plain": [
       "<matplotlib.axes._subplots.AxesSubplot at 0x1d612e0bf88>"
      ]
     },
     "execution_count": 136,
     "metadata": {},
     "output_type": "execute_result"
    },
    {
     "data": {
      "image/png": "[encoded data removed]",
      "text/plain": [
       "<Figure size 432x288 with 1 Axes>"
      ]
     },
     "metadata": {
      "needs_background": "light"
     },
     "output_type": "display_data"
    }
   ],
   "source": [
    "sb.distplot(final_df1['pitch'])"
   ]
  },
  {
   "cell_type": "code",
   "execution_count": null,
   "metadata": {},
   "outputs": [],
   "source": []
  }
 ],
 "metadata": {
  "kernelspec": {
   "display_name": "Python 3",
   "language": "python",
   "name": "python3"
  },
  "language_info": {
   "codemirror_mode": {
    "name": "ipython",
    "version": 3
   },
   "file_extension": ".py",
   "mimetype": "text/x-python",
   "name": "python",
   "nbconvert_exporter": "python",
   "pygments_lexer": "ipython3",
   "version": "3.7.6"
  }
 },
 "nbformat": 4,
 "nbformat_minor": 4
}
